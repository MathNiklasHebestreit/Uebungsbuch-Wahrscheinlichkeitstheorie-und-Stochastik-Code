{
 "cells": [
  {
   "cell_type": "markdown",
   "id": "23cd9ab1-edfe-4622-8f42-da425eea4ae0",
   "metadata": {},
   "source": [
    "**This code is part of the book 'Übungs- und Lernbuch Wahrscheinlichkeitstheorie und Stochastik' by Dr. Niklas Hebestreit-Düsing**"
   ]
  },
  {
   "cell_type": "markdown",
   "id": "d5a59668-1eeb-420f-b658-45e6d915c557",
   "metadata": {},
   "source": [
    "(Aufgabe 11). Sei stets $n \\in \\mathbb N$ beliebig.\n",
    "\n",
    "(a) Zeigen Sie die Identität\n",
    "$$\n",
    "\\sum_{k = 0}^{n} \\binom{n}{k} = 2^n\n",
    "$$\n",
    "und verifizieren Sie diese anschließend für $n = 1000$ in $\\texttt{Python}$.\n",
    "\n",
    "(b) Beweisen Sie\n",
    "$$\n",
    "\\sum_{k = 0}^{n} k \\binom{n}{k} = n2^{n -1}\n",
    "$$\n",
    "\n",
    "(c) Zeigen Sie die Identität\n",
    "$$\n",
    "\\left(\\sum_{k = 0}^{n} \\binom{n}{k} \\right)^2=  \\sum_{k = 0}^{2n} \\binom{2n}{k}\n",
    "$$\n",
    "\n",
    "(d) Beweisen Sie\n",
    "$$\n",
    "\\sum_{k = 0}^{n} (-1)^k \\binom{n}{k} = 0\n",
    "$$\n",
    "und verifizieren Sie die Identität anschließend für $n = 1000$ in $\\texttt{Python}$.\n",
    "\n",
    "(e) Begründen Sie die Identität\n",
    "$$\n",
    "\\sum_{k = 0}^{2n} \\binom{2n}{2k + 1} = 2^{2n - 1}\n",
    "$$"
   ]
  },
  {
   "cell_type": "code",
   "execution_count": 38,
   "id": "63ea6f4e-7b76-45dd-8091-5ab6fab561be",
   "metadata": {},
   "outputs": [],
   "source": [
    "import math\n",
    "\n",
    "n= 1000"
   ]
  },
  {
   "cell_type": "code",
   "execution_count": 36,
   "id": "66e8cc8f-ecec-4a68-b2c0-99e95756714c",
   "metadata": {},
   "outputs": [
    {
     "data": {
      "text/plain": [
       "210"
      ]
     },
     "execution_count": 36,
     "metadata": {},
     "output_type": "execute_result"
    }
   ],
   "source": [
    "# Binomialcoefficients can be calculated as follows:\n",
    "math.comb(10, 4)"
   ]
  },
  {
   "cell_type": "code",
   "execution_count": 53,
   "id": "69c5a78f-24b4-4f8d-b4b9-adcc17d3a924",
   "metadata": {},
   "outputs": [
    {
     "data": {
      "text/plain": [
       "True"
      ]
     },
     "execution_count": 53,
     "metadata": {},
     "output_type": "execute_result"
    }
   ],
   "source": [
    "# Solution (a)\n",
    "sum(math.comb(n, k) for k in range(n + 1)) == 2**n"
   ]
  },
  {
   "cell_type": "code",
   "execution_count": 42,
   "id": "b57e9b22-fa04-4937-ac4e-a4527d15f451",
   "metadata": {},
   "outputs": [
    {
     "data": {
      "text/plain": [
       "True"
      ]
     },
     "execution_count": 42,
     "metadata": {},
     "output_type": "execute_result"
    }
   ],
   "source": [
    "# Solution (b)\n",
    "sum(k * math.comb(n, k) for k in range(n + 1)) == n * 2**(n-1)"
   ]
  },
  {
   "cell_type": "code",
   "execution_count": 55,
   "id": "3cf67b68-ff59-4007-87fd-7ee1ec944f49",
   "metadata": {},
   "outputs": [
    {
     "data": {
      "text/plain": [
       "True"
      ]
     },
     "execution_count": 55,
     "metadata": {},
     "output_type": "execute_result"
    }
   ],
   "source": [
    "# Solution (c)\n",
    "(sum(math.comb(n, k) for k in range(n + 1)))**2 == sum(math.comb(2*n, k) for k in range(2*n + 1))"
   ]
  },
  {
   "cell_type": "code",
   "execution_count": 49,
   "id": "dc9a50b0-29a7-42ba-b29b-5cbdaf90fb9a",
   "metadata": {},
   "outputs": [
    {
     "data": {
      "text/plain": [
       "True"
      ]
     },
     "execution_count": 49,
     "metadata": {},
     "output_type": "execute_result"
    }
   ],
   "source": [
    "# Solution (d)\n",
    "sum((-1)**k * math.comb(n, k) for k in range(n + 1)) == 0"
   ]
  },
  {
   "cell_type": "code",
   "execution_count": 57,
   "id": "33c5ea38-2443-4b1e-8ee2-f26d28ef0988",
   "metadata": {},
   "outputs": [
    {
     "data": {
      "text/plain": [
       "True"
      ]
     },
     "execution_count": 57,
     "metadata": {},
     "output_type": "execute_result"
    }
   ],
   "source": [
    "# Solution (e)\n",
    "sum(math.comb(2*n, 2*k + 1) for k in range(n + 1)) == 2**(2*n - 1)"
   ]
  },
  {
   "cell_type": "code",
   "execution_count": null,
   "id": "ce933c50-7efb-4af3-864d-e90f64b623cd",
   "metadata": {},
   "outputs": [],
   "source": []
  }
 ],
 "metadata": {
  "kernelspec": {
   "display_name": "Python [conda env:base] *",
   "language": "python",
   "name": "conda-base-py"
  },
  "language_info": {
   "codemirror_mode": {
    "name": "ipython",
    "version": 3
   },
   "file_extension": ".py",
   "mimetype": "text/x-python",
   "name": "python",
   "nbconvert_exporter": "python",
   "pygments_lexer": "ipython3",
   "version": "3.11.7"
  }
 },
 "nbformat": 4,
 "nbformat_minor": 5
}
