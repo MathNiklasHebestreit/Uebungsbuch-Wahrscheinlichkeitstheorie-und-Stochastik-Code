{
 "cells": [
  {
   "cell_type": "markdown",
   "id": "2a974a9a-5554-4089-9906-46de61eea1a6",
   "metadata": {},
   "source": [
    "*This code is part of the book 'Übungs- und Lernbuch Wahrscheinlichkeitstheorie und Stochastik' by [Dr. Niklas Hebestreit-Düsing](https://dr-hebestreit.de/)* \n",
    "\n",
    "\n"
   ]
  },
  {
   "cell_type": "markdown",
   "id": "ad875021-3b53-47a2-b78d-e71b0fc479ae",
   "metadata": {},
   "source": [
    "**(Aufgabe 70, Zweifacher Würfelwurf).** Wir betrachten das Zufallsexperiment des zweifachen Würfelwurfs.\n",
    "\n",
    "(a) Stellen Sie das Zufallsexperiment unter geeigneten Annahmen durch einen Wahrscheinlichkeitsraum dar.\n",
    "\t\n",
    "(b) Berechnen Sie die Wahrscheinlichkeit der folgenden drei Ereignisse:\n",
    "\t$$\n",
    "\t\tA  := \\text{es wird ein Pasch gewürfelt}, \\qquad B  := \\text{die Augensumme ist eine ungerade Zahl}, \\qquad\n",
    "\t\tC  := \\text{der erste oder zweite Würfel zeigt eine Primzahl}\n",
    "\t$$\n",
    "\t\n",
    "(c) Bestätigen Sie die Ergebnisse aus Teil (b) durch eine Simulation in $\\texttt{Python}$."
   ]
  },
  {
   "cell_type": "markdown",
   "id": "adfd218e-d6a4-4883-ab11-8ed3b5fa8060",
   "metadata": {},
   "source": [
    "**Lösung von Teil (c).**"
   ]
  },
  {
   "cell_type": "code",
   "execution_count": null,
   "id": "dac19059-c7dc-4633-8c42-16f39e7fd9fe",
   "metadata": {},
   "outputs": [],
   "source": [
    "import random\n",
    "\n",
    "def roll_dices() -> list[int]:\n",
    "    \"\"\"\n",
    "    Simulates rolling two six-sided dice.\n",
    "    \n",
    "    Returns:\n",
    "        result (tuple): A tuple of two integers, representing the outcome of each die.                  \n",
    "    \"\"\"\n",
    "    return [random.randint(1, 6), random.randint(1, 6)]"
   ]
  },
  {
   "cell_type": "code",
   "execution_count": 22,
   "id": "48b3bc76-1cda-4953-ada9-83cb1f0ec2f7",
   "metadata": {},
   "outputs": [
    {
     "data": {
      "text/plain": [
       "[1, 6]"
      ]
     },
     "execution_count": 22,
     "metadata": {},
     "output_type": "execute_result"
    }
   ],
   "source": [
    "# Dice roll\n",
    "\n",
    "roll_dices()"
   ]
  },
  {
   "cell_type": "code",
   "execution_count": 24,
   "id": "ce61097f-cf1f-462c-b5ba-c1098a33a68f",
   "metadata": {},
   "outputs": [
    {
     "data": {
      "text/plain": [
       "[5, 2]"
      ]
     },
     "execution_count": 24,
     "metadata": {},
     "output_type": "execute_result"
    }
   ],
   "source": [
    "# Dice roll\n",
    "\n",
    "roll_dices()"
   ]
  },
  {
   "cell_type": "code",
   "execution_count": null,
   "id": "f20dc0ad-2315-46a7-8271-aecc8c94e17b",
   "metadata": {},
   "outputs": [],
   "source": [
    "# Event A\n",
    "\n",
    "def check_doubles(dices: list[int]) -> bool:\n",
    "    \"\"\"\n",
    "    Checks whether both dice have the same value (a double).\n",
    "    \n",
    "    Arguments:\n",
    "        dices (list): A list containing two dice values.\n",
    "\n",
    "    Returns:\n",
    "        (bool): True if both dice show the same number, False otherwise.\n",
    "    \"\"\"\n",
    "    return dices[0] == dices[1]"
   ]
  },
  {
   "cell_type": "code",
   "execution_count": 28,
   "id": "323b2040-77ea-4d46-afd0-13ee7569080a",
   "metadata": {},
   "outputs": [
    {
     "data": {
      "text/plain": [
       "True"
      ]
     },
     "execution_count": 28,
     "metadata": {},
     "output_type": "execute_result"
    }
   ],
   "source": [
    "check_doubles([4,4])"
   ]
  },
  {
   "cell_type": "code",
   "execution_count": 30,
   "id": "dea00534-4acf-41c2-8dc4-189e951f081c",
   "metadata": {},
   "outputs": [
    {
     "data": {
      "text/plain": [
       "False"
      ]
     },
     "execution_count": 30,
     "metadata": {},
     "output_type": "execute_result"
    }
   ],
   "source": [
    "check_doubles([1,6])"
   ]
  },
  {
   "cell_type": "code",
   "execution_count": null,
   "id": "7bf3700c-3e52-42e6-a038-4d8a55787234",
   "metadata": {},
   "outputs": [],
   "source": [
    "# Event B\n",
    "\n",
    "def check_sum(dices: list[int]) -> bool:\n",
    "    \"\"\"\n",
    "    Determines whether the sum of two dice is an odd number.\n",
    "    \n",
    "    Arguments:\n",
    "        dice (list): A list containing two dice values.\n",
    "    \n",
    "    Returns:\n",
    "        (bool): True if the sum is odd, False if it is even.\n",
    "    \"\"\"\n",
    "    return (dices[0] + dices[1]) % 2 != 0"
   ]
  },
  {
   "cell_type": "code",
   "execution_count": 34,
   "id": "623eed17-738a-4d4e-a576-4e28bc7fe550",
   "metadata": {},
   "outputs": [
    {
     "data": {
      "text/plain": [
       "True"
      ]
     },
     "execution_count": 34,
     "metadata": {},
     "output_type": "execute_result"
    }
   ],
   "source": [
    "check_sum([5,4])"
   ]
  },
  {
   "cell_type": "code",
   "execution_count": 36,
   "id": "7627f93e-8c30-4a8c-9b61-947307a5bab2",
   "metadata": {},
   "outputs": [
    {
     "data": {
      "text/plain": [
       "False"
      ]
     },
     "execution_count": 36,
     "metadata": {},
     "output_type": "execute_result"
    }
   ],
   "source": [
    "check_sum([1,3])"
   ]
  },
  {
   "cell_type": "code",
   "execution_count": null,
   "id": "381d9cd6-3666-49bc-b92d-5dcf3b3365d7",
   "metadata": {},
   "outputs": [],
   "source": [
    "# Event C\n",
    "\n",
    "def check_prime(dices: list[int]) -> bool:\n",
    "    \"\"\"\n",
    "    Determines whether at least one die shows a prime number.\n",
    "    \n",
    "    Arguments:\n",
    "        dice (list): A list containing two dice values.\n",
    "    \n",
    "    Returns:\n",
    "        (bool): True if at least one die shows a prime number, False otherwise.\n",
    "    \"\"\"\n",
    "    primes = {2, 3, 5}\n",
    "    return dices[0] in primes or dices[1] in primes\t"
   ]
  },
  {
   "cell_type": "code",
   "execution_count": 17,
   "id": "ed1ca613-00cc-4638-b43f-4172f9e78118",
   "metadata": {},
   "outputs": [
    {
     "data": {
      "text/plain": [
       "True"
      ]
     },
     "execution_count": 17,
     "metadata": {},
     "output_type": "execute_result"
    }
   ],
   "source": [
    "check_prime([2,6])"
   ]
  },
  {
   "cell_type": "code",
   "execution_count": 40,
   "id": "7ad786df-7ab5-40c7-966a-9d363a0fd604",
   "metadata": {},
   "outputs": [
    {
     "data": {
      "text/plain": [
       "False"
      ]
     },
     "execution_count": 40,
     "metadata": {},
     "output_type": "execute_result"
    }
   ],
   "source": [
    "check_prime([4,1])"
   ]
  },
  {
   "cell_type": "code",
   "execution_count": null,
   "id": "43164f1a-4321-48aa-a089-9b2ee25bc111",
   "metadata": {},
   "outputs": [],
   "source": [
    "def simulate(runs: int) -> list[float]:\n",
    "    \"\"\"\n",
    "    Simulates a dice-rolling experiment for a given number of runs.\n",
    "\n",
    "    Arguments:\n",
    "    runs (int): Number of times to roll a pair of dice.\n",
    "\n",
    "    Returns:\n",
    "    (tuple): A tuple containing:\n",
    "             - prob_double (float): Percentage probability of event A.\n",
    "             - prob_sum (float): Percentage probability of event B.\n",
    "             - prob_prime (float): Percentage probability of event C.\n",
    "    \"\"\"\n",
    "    doubles_prob = []\n",
    "    sum_prob = []\n",
    "    prime_prob = []\n",
    "\n",
    "    # Counters for how often each event occurs\n",
    "    doubles_count = 0\n",
    "    sum_count = 0\n",
    "    prime_count = 0\n",
    "\n",
    "    for i in range(1, runs + 1):\n",
    "        dices = roll_dices()\n",
    "        # Check if the dice roll is a double (event A)\n",
    "        if check_doubles(dices):\n",
    "            doubles_count += 1\n",
    "        # Check if the dice sum is odd (event B)\n",
    "        if check_sum(dices):\n",
    "            sum_count += 1\n",
    "        # Check if a dice shows a prime number (event C)\n",
    "        if check_prime(dices):\n",
    "            prime_count += 1\n",
    "\n",
    "    # Compute probabilities as percentages\n",
    "    prob_double = doubles_count * 100 / i\n",
    "    prob_sum = sum_count * 100 / i\n",
    "    prob_prime = prime_count * 100 / i\n",
    "    \n",
    "    return prob_double, prob_sum, prob_prime"
   ]
  },
  {
   "cell_type": "code",
   "execution_count": 44,
   "id": "32974373-2d7e-4d76-98cf-630fcdc4b549",
   "metadata": {},
   "outputs": [
    {
     "data": {
      "text/plain": [
       "(16.0, 48.0, 73.0)"
      ]
     },
     "execution_count": 44,
     "metadata": {},
     "output_type": "execute_result"
    }
   ],
   "source": [
    "simulate(100)"
   ]
  },
  {
   "cell_type": "code",
   "execution_count": 46,
   "id": "834adf22-59e2-4d9b-99fb-cf726f66e38f",
   "metadata": {},
   "outputs": [
    {
     "data": {
      "text/plain": [
       "(16.52, 50.36, 75.08)"
      ]
     },
     "execution_count": 46,
     "metadata": {},
     "output_type": "execute_result"
    }
   ],
   "source": [
    "simulate(2500)"
   ]
  },
  {
   "cell_type": "code",
   "execution_count": 80,
   "id": "bebef082-6f3a-46d8-8149-72a07ca368a9",
   "metadata": {},
   "outputs": [
    {
     "name": "stdout",
     "output_type": "stream",
     "text": [
      "probability of event A after 1000000 runs: 16.6542%\n",
      "probability of event B after 1000000 runs: 50.052%\n",
      "probability of event C after 1000000 runs: 74.9626%\n"
     ]
    }
   ],
   "source": [
    "# Probabilities of the events A, B and C\n",
    "\n",
    "runs = 1000000\n",
    "prob_double, prob_sum, prob_prime = simulate(runs)\n",
    "\n",
    "print(f\"probability of event A after {runs} runs: {prob_double}%\")\n",
    "print(f\"probability of event B after {runs} runs: {prob_sum}%\")\n",
    "print(f\"probability of event C after {runs} runs: {prob_prime}%\")"
   ]
  },
  {
   "cell_type": "code",
   "execution_count": 48,
   "id": "241f1f2f-9c1d-4a0e-b957-71ef230635d7",
   "metadata": {},
   "outputs": [],
   "source": [
    "# As expected, the approximated value of prob_sum closely matches the exact value of 50%."
   ]
  },
  {
   "cell_type": "code",
   "execution_count": null,
   "id": "9a9fa129-e841-4023-9b45-60bc61cbf9a3",
   "metadata": {},
   "outputs": [],
   "source": []
  }
 ],
 "metadata": {
  "kernelspec": {
   "display_name": "Python [conda env:base] *",
   "language": "python",
   "name": "conda-base-py"
  },
  "language_info": {
   "codemirror_mode": {
    "name": "ipython",
    "version": 3
   },
   "file_extension": ".py",
   "mimetype": "text/x-python",
   "name": "python",
   "nbconvert_exporter": "python",
   "pygments_lexer": "ipython3",
   "version": "3.11.7"
  }
 },
 "nbformat": 4,
 "nbformat_minor": 5
}
