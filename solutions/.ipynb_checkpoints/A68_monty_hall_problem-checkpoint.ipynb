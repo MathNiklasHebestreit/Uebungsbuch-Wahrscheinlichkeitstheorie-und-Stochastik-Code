{
 "cells": [
  {
   "cell_type": "markdown",
   "id": "607d9fbf-f14a-4a58-9635-d3466c9c0ab0",
   "metadata": {},
   "source": [
    "*This code is part of the book 'Übungs- und Lernbuch Wahrscheinlichkeitstheorie und Stochastik' by [Dr. Niklas Hebestreit-Düsing](https://dr-hebestreit.de/)* "
   ]
  },
  {
   "cell_type": "markdown",
   "id": "f751d680-66fc-454f-b54e-2193e91a244b",
   "metadata": {},
   "source": [
    "**(Aufgabe 68, Monty-Hall-Problem).**\n",
    "In einer Spielshow steht ein Kandidat vor drei Türen, die alle gleich aussehen. Hinter einer der Türen ist ein Gewinn, während sich hinter den beiden verbleibenden Türen eine Niete befindet. Der Kandidat wählt zufällig eine Tür aus, die zunächst verschlossen bleibt. Der Showmaster, dem bekannt ist hinter welcher Tür sich der Gewinn befindet, öffnet eine andere Tür, hinter der sich eine Niete befindet. Dabei entscheidet sich der Showmaster zufällig, wenn sich hinter beiden verbleibenden Türen eine Niete befindet. Nun wird der Kandidat gefragt: Möchten Sie Ihre Türwahl ändern?\n",
    "\n",
    "(a) Nehmen Sie nun an, es liegt folgende Situation vor: Der Kandidat hat die erste Tür gewählt und der Showmaster hat daraufhin die zweite Tür geöffnet. Untersuchen Sie, mit welcher der beiden folgenden Strategien der Kandidat die größte Gewinnwahrscheinlichkeit hat:\n",
    "\t\n",
    "\t(stay) Der Kandidat ändert seine Wahl nicht.\n",
    "\t\t\n",
    "\t(switch) Der Kandidat ändert seine Wahl und entscheidet sich für die andere verschlossene Tür.\n",
    "\t\n",
    "(b) Simulieren Sie beide Spielstrategien in $\\texttt{Python}$ und bestätigen Sie damit Ihre Überlegungen aus Teil (a) dieser Aufgabe."
   ]
  },
  {
   "cell_type": "markdown",
   "id": "e8f99379-4cfe-4bb0-a2d3-04794a16a50d",
   "metadata": {},
   "source": [
    "**Lösung (b).**"
   ]
  },
  {
   "cell_type": "code",
   "execution_count": 1,
   "id": "c42c5b37-9b7f-4e3d-ad45-086d2b9a08da",
   "metadata": {},
   "outputs": [],
   "source": [
    "import random\n",
    "\n",
    "def simulate_candidates_strategy(games, strategy):\n",
    "    \"\"\"\n",
    "    Simulates the Monty Hall problem over a specified number of games.\n",
    "\n",
    "    Arguments:\n",
    "    - games (int): Number of simulation rounds to run.\n",
    "    - strategy (str): Candidate's strategy; 'stay' means keep original choice, \n",
    "                      'switch' means change to the other unopened door\n",
    "\n",
    "    Returns:\n",
    "    - str: Win probability as a formatted percentage.\n",
    "    \"\"\"\n",
    "\n",
    "    # Counter for how many times the contestant wins\n",
    "    win_count = 0\n",
    "\n",
    "    # The doors are labeled 1, 2, and 3\n",
    "    doors = [1, 2, 3]\n",
    "\n",
    "    # Dictionary to associate strategy names with behavior\n",
    "    strategies = {\"stay\": False, \"switch\": True}\n",
    "\n",
    "    for _ in range(games):\n",
    "        # Randomly select which door hides the prize\n",
    "        win_door = random.choice(doors)\n",
    "\n",
    "        # Contestant makes an initial random choice\n",
    "        first_pick = random.choice(doors)\n",
    "\n",
    "        if strategies[strategy]: \n",
    "            # Strategy: switch\n",
    "            # The host opens a door that is neither the winning door nor the contestant's choice\n",
    "            possible_doors_to_open = set(doors) - set([win_door, first_pick])\n",
    "            host_door = random.choice(list(possible_doors_to_open))\n",
    "\n",
    "            # Now the contestant switches to the one remaining unopened door\n",
    "            second_pick = (set(doors) - {first_pick, host_door}).pop()\n",
    "\n",
    "            # Check if the new pick is the winning door\n",
    "            if second_pick == win_door:\n",
    "                win_count += 1\n",
    "        else: \n",
    "            # Strategy: stay \n",
    "            # The contestant sticks with the initial choice\n",
    "            if first_pick == win_door:\n",
    "                win_count += 1  \n",
    "\n",
    "    # Calculate the win probability\n",
    "    win_probability = win_count / games * 100\n",
    "    return f\"The win probability of strategy '{strategy}' is {win_probability:.2f}%\""
   ]
  },
  {
   "cell_type": "code",
   "execution_count": 7,
   "id": "b638337a-6404-4737-a48c-31131e11c98c",
   "metadata": {},
   "outputs": [
    {
     "data": {
      "text/plain": [
       "\"The win probability of strategy 'stay' is 31.30%\""
      ]
     },
     "execution_count": 7,
     "metadata": {},
     "output_type": "execute_result"
    }
   ],
   "source": [
    "# Stay\n",
    "\n",
    "simulate_candidates_strategy(1000, \"stay\")"
   ]
  },
  {
   "cell_type": "code",
   "execution_count": 9,
   "id": "b9ed9c0e-0d42-4975-acd8-004ed95b96d9",
   "metadata": {},
   "outputs": [
    {
     "data": {
      "text/plain": [
       "\"The win probability of strategy 'switch' is 66.70%\""
      ]
     },
     "execution_count": 9,
     "metadata": {},
     "output_type": "execute_result"
    }
   ],
   "source": [
    "# Switch\n",
    "\n",
    "simulate_candidates_strategy(1000, \"switch\")"
   ]
  },
  {
   "cell_type": "code",
   "execution_count": null,
   "id": "36beedfa-2c11-4c18-ac22-a263ecdc237b",
   "metadata": {},
   "outputs": [],
   "source": []
  }
 ],
 "metadata": {
  "kernelspec": {
   "display_name": "Python [conda env:base] *",
   "language": "python",
   "name": "conda-base-py"
  },
  "language_info": {
   "codemirror_mode": {
    "name": "ipython",
    "version": 3
   },
   "file_extension": ".py",
   "mimetype": "text/x-python",
   "name": "python",
   "nbconvert_exporter": "python",
   "pygments_lexer": "ipython3",
   "version": "3.11.7"
  }
 },
 "nbformat": 4,
 "nbformat_minor": 5
}
