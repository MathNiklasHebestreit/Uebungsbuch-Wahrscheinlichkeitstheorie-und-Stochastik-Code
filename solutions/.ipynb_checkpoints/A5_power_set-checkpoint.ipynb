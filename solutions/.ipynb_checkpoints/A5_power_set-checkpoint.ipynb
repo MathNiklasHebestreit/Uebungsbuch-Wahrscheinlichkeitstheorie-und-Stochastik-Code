{
 "cells": [
  {
   "cell_type": "code",
   "execution_count": 1,
   "id": "b9c0fa",
   "metadata": {
    "collapsed": false
   },
   "outputs": [
    {
     "data": {
      "text/plain": [
       "[{},\n",
       " {1},\n",
       " {2},\n",
       " {3},\n",
       " {4},\n",
       " {1, 2},\n",
       " {1, 3},\n",
       " {1, 4},\n",
       " {2, 3},\n",
       " {2, 4},\n",
       " {3, 4},\n",
       " {1, 2, 3},\n",
       " {1, 2, 4},\n",
       " {1, 3, 4},\n",
       " {2, 3, 4},\n",
       " {1, 2, 3, 4}]"
      ]
     },
     "execution_count": 1,
     "metadata": {
     },
     "output_type": "execute_result"
    }
   ],
   "source": [
    "# Generate the power set of {1, 2, 3, 4}. \n",
    "# Alternatively, you can use Subsets([1, 2, 3, 4]) for the same result.\n",
    "\n",
    "Subsets(4).list()"
   ]
  },
  {
   "cell_type": "code",
   "execution_count": 2,
   "id": "485cee",
   "metadata": {
    "collapsed": false
   },
   "outputs": [
    {
     "data": {
      "text/plain": [
       "[{1, 2, 3}, {1, 2, 4}, {1, 3, 4}, {2, 3, 4}]"
      ]
     },
     "execution_count": 2,
     "metadata": {
     },
     "output_type": "execute_result"
    }
   ],
   "source": [
    "# Subsets of {1, 2, 3, 4} with 3 elements\n",
    "\n",
    "Subsets(4, 3).list()"
   ]
  },
  {
   "cell_type": "code",
   "execution_count": 4,
   "id": "59ef77",
   "metadata": {
    "collapsed": false
   },
   "outputs": [
    {
     "name": "stdout",
     "output_type": "stream",
     "text": [
      "The powerset of {1, ..., 4} contains 16 elements\n"
     ]
    }
   ],
   "source": [
    "n = 4\n",
    "card = 0\n",
    "\n",
    "# Loop over all possible subset sizes from 0 to n\n",
    "for k in range(n + 1):\n",
    "    # Add the number of subsets of size k to the total count\n",
    "    card += len(Subsets(n, k))\n",
    "    \n",
    "print(f\"The powerset of {{1, ..., {n}}} contains {card} elements\") "
   ]
  },
  {
   "cell_type": "code",
   "execution_count": 5,
   "id": "6ab809",
   "metadata": {
    "collapsed": false
   },
   "outputs": [
    {
     "name": "stdout",
     "output_type": "stream",
     "text": [
      "Randomly selected element: 2\n",
      "\n",
      "Subsets of {1, ..., 4} that contain 2:\n",
      "{2}\n",
      "{1, 2}\n",
      "{2, 3}\n",
      "{2, 4}\n",
      "{1, 2, 3}\n",
      "{1, 2, 4}\n",
      "{2, 3, 4}\n",
      "{1, 2, 3, 4}\n",
      "In total, these are 8 subsets.\n",
      "\n",
      "Subsets that do not contain 2:\n",
      "{}\n",
      "{1}\n",
      "{3}\n",
      "{4}\n",
      "{1, 3}\n",
      "{1, 4}\n",
      "{3, 4}\n",
      "{1, 3, 4}\n",
      "In total, these are 8 subsets.\n"
     ]
    }
   ],
   "source": [
    "import random\n",
    "\n",
    "n = 4\n",
    "# Choose a random element from {1, ..., n}\n",
    "x = random.randint(1, n)\n",
    "# Lists to hold subsets that include or exclude the randomly\n",
    "# chosen element\n",
    "subsets_with_x = []\n",
    "subsets_without_x = []\n",
    "\n",
    "for A in Subsets(n):\n",
    "    if x in A:\n",
    "        subsets_with_x.append(A)\n",
    "    else:\n",
    "        subsets_without_x.append(A)\n",
    "\n",
    "# Display results\n",
    "print(f\"Randomly selected element: {x}\\n\")\n",
    "print(f\"Subsets of {{1, ..., {n}}} that contain {x}:\")\n",
    "for A in subsets_with_x:\n",
    "    print(A)\n",
    "print(f\"In total, these are {len(subsets_with_x)} subsets.\\n\")\n",
    "\n",
    "print(f\"Subsets that do not contain {x}:\")\n",
    "for A in subsets_without_x:\n",
    "    print(A)\n",
    "print(f\"In total, these are {len(subsets_without_x)} subsets.\")"
   ]
  },
  {
   "cell_type": "code",
   "execution_count": 0,
   "id": "c1dfc3",
   "metadata": {
    "collapsed": false
   },
   "outputs": [
   ],
   "source": [
   ]
  }
 ],
 "metadata": {
  "kernelspec": {
   "argv": [
    "sage-10.6",
    "--python",
    "-m",
    "sage.repl.ipython_kernel",
    "--matplotlib=inline",
    "-f",
    "{connection_file}"
   ],
   "display_name": "SageMath 10.6",
   "env": {
   },
   "language": "sagemath",
   "metadata": {
    "cocalc": {
     "description": "Open-source mathematical software system",
     "priority": 10,
     "url": "https://www.sagemath.org/"
    }
   },
   "name": "sage-10.6",
   "resource_dir": "/ext/jupyter/kernels/sage-10.6"
  },
  "language_info": {
   "codemirror_mode": {
    "name": "ipython",
    "version": 3
   },
   "file_extension": ".py",
   "mimetype": "text/x-python",
   "name": "python",
   "nbconvert_exporter": "python",
   "pygments_lexer": "ipython3",
   "version": "3.12.5"
  }
 },
 "nbformat": 4,
 "nbformat_minor": 4
}