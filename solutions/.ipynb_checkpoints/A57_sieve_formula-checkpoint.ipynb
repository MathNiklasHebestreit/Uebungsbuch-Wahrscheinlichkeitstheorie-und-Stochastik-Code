{
 "cells": [
  {
   "cell_type": "markdown",
   "metadata": {},
   "source": [
    "*This code is part of the book 'Übungs- und Lernbuch Wahrscheinlichkeitstheorie und Stochastik' by [Dr. Niklas Hebestreit-Düsing](https://dr-hebestreit.de/)* "
   ]
  },
  {
   "cell_type": "markdown",
   "metadata": {},
   "source": [
    "**(Aufgabe 57, Siebformel von Silvester-Poincare).**\r",
    "Bearbeiten Sie die folgenden Teilaufgaben:\n",
    "\n",
    "(a) Sei $(X, \\mathfrak{A}, \\mu)$ ein endlicher Maßraum und seien $A_1, A_2, A_3 \\in \\mathfrak A$ beliebige Mengen. Beweisen Sie\n",
    "$$\n",
    "\\mu(A_1 \\cup A_2 \\cup A_3)   = \\mu(A_1)  + \\mu(A_2) + \\mu(A_3) - \\mu(A_1 \\cap A_2)  - \\mu(A_1 \\cap A_3) - \\mu(A_2 \\cap A_3)  + \\mu(A_1 \\cap A_2 \\cap A_3)\n",
    "$$\n",
    "\n",
    "(b) Berechnen Sie in $\\texttt{SageMath}$ die Mächtigkeit der Vereinigungsmenge $A_1 \\cup A_2 \\cup A_3$, wobei \n",
    "$$\n",
    "\tA_1  := \\{1,2,3\\}, \\qquad A_2  := \\{4,5,6\\}, \\qquad A_3  := \\{2,3,4,5,6,7,8,9,10\\}\n",
    "$$\n",
    "definiert sind. Bestätigen Sie Ihr Ergebnis anschließend mithilfe der Formel aus Teil (a).\n",
    "\n",
    "(c) (Siebformel von Silvester-Poincare). Sei $(X, \\mathfrak{A}, \\mu)$ ein endlicher Maßraum und sei $A_k \\in \\mathfrak{A}$ für $k \\in \\{1, \\dotsc, n\\}$. Beweisen Sie die sogenannte Siebformel von Silvester-Poincare\n",
    "$$\n",
    "\t\\mu\\left(\\bigcup_{j=1}^n A_j\\right) = \\sum_{k = 1}^{n} (-1)^{k+1} \\sum_{\\substack{J \\subset \\{ 1, \\dotsc, n\\} \\\\ |J| = k }} \\mu \\left( \\bigcap_{j \\in J} A_j\\right)\n",
    "$$\n",
    "\n",
    "(d) (Siebformel von Silvester-Poincare in $\\texttt{SageMath}$). In diesem Teil soll die Siebformel von Silvester-Poincare zur Berechnung der Mächtigkeit von Vereinigungsmengen in $\\texttt{SageMath}$ umgesetzt werden. Entwickeln Sie dazu die Funktion \n",
    "$$\n",
    "\t\\texttt{sieve\\_formula(M)}\n",
    "$$\n",
    "die als Argument ein Mengensystem $\\texttt{M}$ von endlich vielen endlichen Mengen akzeptiert und die Mächtigkeit aller vereinigten Mengen bestimmt. \n",
    "\n",
    "(e) Sei $(X, \\mathfrak{A}, \\mu)$ ein endlicher Maßraum. Erklären Sie, wie sich die rechte Seite der Siebformel vereinfachen lässt, falls die Mengen $A_k \\in \\mathfrak{A}$ für $k \\in \\{1, \\dotsc, n\\}$ paarweise disjunkt sind.\n",
    "\n",
    "(f) Sei $(X, \\mathfrak{A}, \\mu)$ ein endlicher Maßraum und seien $A_k \\in \\mathfrak{A}$ für $k \\in \\{1, \\dotsc, n\\}$ Mengen mit der Eigenschaft\n",
    "$$\n",
    "\t\\mu \\left(\\bigcap_{i \\in I} A_i \\right) = \\mu \\left(\\bigcap_{j \\in J} A_j \\right)\n",
    "$$\n",
    "für alle Indexmengen $I,J \\subset \\{1, \\dotsc, n\\}$ mit $|I| = |J|$. Untersuchen Sie, wie sich die Siebformel in diesem Fall vereinfachen lässt."
   ]
  },
  {
   "cell_type": "markdown",
   "metadata": {},
   "source": [
    "**Lösung (b).**"
   ]
  },
  {
   "cell_type": "code",
   "execution_count": 8,
   "metadata": {
    "collapsed": false,
    "jupyter": {
     "outputs_hidden": false
    }
   },
   "outputs": [
    {
     "name": "stdout",
     "output_type": "stream",
     "text": [
      "first element: 1, cardinality: 3\n"
     ]
    }
   ],
   "source": [
    "A = Set([1, 2, 3])\n",
    "\n",
    "print(f\"first element: {A[0]}, cardinality: {len(A)}\")"
   ]
  },
  {
   "cell_type": "code",
   "execution_count": 9,
   "metadata": {
    "collapsed": false,
    "jupyter": {
     "outputs_hidden": false
    }
   },
   "outputs": [
    {
     "name": "stdout",
     "output_type": "stream",
     "text": [
      "union: {1, 2, 3, 4}, intersection: {2, 3}\n"
     ]
    }
   ],
   "source": [
    "A = Set([1, 2, 3])\n",
    "B = Set([2, 3, 4])\n",
    "\n",
    "print(f\"union: {A + B}, intersection: {A & B}\")"
   ]
  },
  {
   "cell_type": "code",
   "execution_count": 10,
   "metadata": {
    "collapsed": false,
    "jupyter": {
     "outputs_hidden": false
    }
   },
   "outputs": [
    {
     "name": "stdout",
     "output_type": "stream",
     "text": [
      "cardinality: 10\n"
     ]
    }
   ],
   "source": [
    "A = Set([1..3])\n",
    "B = Set([4..6])\n",
    "C = Set([2..10])\n",
    "\n",
    "print(f\"cardinality: {len(A + B + C)}\")"
   ]
  },
  {
   "cell_type": "code",
   "execution_count": 11,
   "metadata": {
    "collapsed": false,
    "jupyter": {
     "outputs_hidden": false
    }
   },
   "outputs": [
    {
     "name": "stdout",
     "output_type": "stream",
     "text": [
      "cardinality: 10\n"
     ]
    }
   ],
   "source": [
    "c1 = len(A) + len(B) + len(C)\n",
    "c2 = len(A & B) + len(A & C) + len(B & C)\n",
    "c3 = len(A & B & C)\n",
    "\n",
    "print(f\"cardinality: {c1 - c2 + c3}\")"
   ]
  },
  {
   "cell_type": "markdown",
   "metadata": {},
   "source": [
    "**Lösung (d).**"
   ]
  },
  {
   "cell_type": "code",
   "execution_count": 12,
   "metadata": {
    "collapsed": false,
    "jupyter": {
     "outputs_hidden": false
    }
   },
   "outputs": [
    {
     "data": {
      "text/plain": [
       "[[], [1], [2], [1, 2], [3], [1, 3], [2, 3], [1, 2, 3]]"
      ]
     },
     "execution_count": 12,
     "metadata": {},
     "output_type": "execute_result"
    }
   ],
   "source": [
    "J = Set([1, 2, 3])\n",
    "\n",
    "list(powerset(J))"
   ]
  },
  {
   "cell_type": "code",
   "execution_count": 13,
   "metadata": {
    "collapsed": false,
    "jupyter": {
     "outputs_hidden": false
    }
   },
   "outputs": [
    {
     "data": {
      "text/plain": [
       "{2, 3, 4}"
      ]
     },
     "execution_count": 13,
     "metadata": {},
     "output_type": "execute_result"
    }
   ],
   "source": [
    "A = Set([1, 2, 3, 4]) \n",
    "B = Set([2, 3, 4, 5])\n",
    "\n",
    "A & B"
   ]
  },
  {
   "cell_type": "code",
   "execution_count": 14,
   "metadata": {
    "collapsed": false,
    "jupyter": {
     "outputs_hidden": false
    }
   },
   "outputs": [],
   "source": [
    "def intersection_by_index(M : Set(Set(int)), J : list[int]):\n",
    "    \"\"\"\n",
    "    Computes the intersection of sets from the collection M,\n",
    "    using only the indices specified in the list J.\n",
    "\n",
    "    Arguments:\n",
    "        M (set): A collection of sets.\n",
    "        J (list): A list of indices indicating which sets from M\n",
    "                         should be intersected.\n",
    "\n",
    "    Returns:\n",
    "        (set): The intersection of all sets in M specified by J.\n",
    "    \"\"\"\n",
    "    \n",
    "    # Start with the set at the first index in J\n",
    "    intersection = M[J[0]]\n",
    "\n",
    "    # Iteratively compute the intersection of the remaining sets\n",
    "    for j in J:\n",
    "        intersection = intersection & M[j]\n",
    "\n",
    "    return intersection"
   ]
  },
  {
   "cell_type": "code",
   "execution_count": 15,
   "metadata": {
    "collapsed": false,
    "jupyter": {
     "outputs_hidden": false
    }
   },
   "outputs": [
    {
     "data": {
      "text/plain": [
       "{4, 5, 6, 7}"
      ]
     },
     "execution_count": 15,
     "metadata": {},
     "output_type": "execute_result"
    }
   ],
   "source": [
    "A = Set([1..6])\n",
    "B = Set([2..7])\n",
    "C = Set([4..9])\n",
    "M = Set([A, B, C])\n",
    "J = [0, 2]\n",
    "\n",
    "intersection_by_index(M, J)"
   ]
  },
  {
   "cell_type": "code",
   "execution_count": 16,
   "metadata": {
    "collapsed": false,
    "jupyter": {
     "outputs_hidden": false
    }
   },
   "outputs": [
    {
     "data": {
      "text/plain": [
       "{{2, 3, 4, 5, 6, 7}, {1, 2, 3, 4, 5, 6}, {4, 5, 6, 7, 8, 9}}"
      ]
     },
     "execution_count": 16,
     "metadata": {},
     "output_type": "execute_result"
    }
   ],
   "source": [
    "M"
   ]
  },
  {
   "cell_type": "code",
   "execution_count": 23,
   "metadata": {
    "collapsed": false,
    "jupyter": {
     "outputs_hidden": false
    }
   },
   "outputs": [],
   "source": [
    "def sieve_formula(M : Set(Set(int))):\n",
    "    \"\"\"\n",
    "    Computes the cardinality of the union of all sets in the collection M\n",
    "    using the inclusion-exclusion principle.\n",
    "\n",
    "    Arguments:\n",
    "        M (set): A collection of sets.\n",
    "\n",
    "    Returns:\n",
    "        The function prints the cardinality of the union.\n",
    "    \"\"\"\n",
    "\n",
    "    # Initialize the cardinality\n",
    "    c = 0  \n",
    "\n",
    "    # Generate all subsets of the index set {1, ..., len(M)}\n",
    "    # Each subset is a list of indices referring to sets in M.\n",
    "    P = list(powerset([0..len(M) - 1]))\n",
    "\n",
    "    # Skip the empty set and iterate over all non-empty index combinations\n",
    "    for k in range(1, len(P)):\n",
    "        # If the number of sets in this subset is even,\n",
    "        # subtract the size of their intersection\n",
    "        if len(P[k]) % 2 == 0:\n",
    "            c = c - len(intersection_by_index(M, P[k]))\n",
    "        # If the number is odd, add the size of their intersection\n",
    "        else:\n",
    "            c = c + len(intersection_by_index(M, P[k]))\n",
    "\n",
    "    # Print the computed cardinality of the union\n",
    "    return print(f\"cardinality: {c}\")"
   ]
  },
  {
   "cell_type": "code",
   "execution_count": 24,
   "metadata": {
    "collapsed": false,
    "jupyter": {
     "outputs_hidden": false
    }
   },
   "outputs": [
    {
     "name": "stdout",
     "output_type": "stream",
     "text": [
      "cardinality: 9\n"
     ]
    }
   ],
   "source": [
    "A = Set([1..5])\n",
    "B = Set([5..7])\n",
    "C = Set([3..9])\n",
    "M = Set([A, B, C])\n",
    "\n",
    "sieve_formula(M)"
   ]
  },
  {
   "cell_type": "code",
   "execution_count": null,
   "metadata": {
    "collapsed": false,
    "jupyter": {
     "outputs_hidden": false
    }
   },
   "outputs": [],
   "source": []
  }
 ],
 "metadata": {
  "kernelspec": {
   "display_name": "Python [conda env:base] *",
   "language": "python",
   "name": "conda-base-py"
  },
  "language_info": {
   "codemirror_mode": {
    "name": "ipython",
    "version": 3
   },
   "file_extension": ".py",
   "mimetype": "text/x-python",
   "name": "python",
   "nbconvert_exporter": "python",
   "pygments_lexer": "ipython3",
   "version": "3.11.7"
  }
 },
 "nbformat": 4,
 "nbformat_minor": 4
}
