{
 "cells": [
  {
   "cell_type": "code",
   "execution_count": 1,
   "id": "35897d8a-d1a7-4f24-80f6-5f805e527a9f",
   "metadata": {},
   "outputs": [],
   "source": [
    "# This code is part of the book 'Übungs- und Lernbuch Wahrscheinlichkeitstheorie und Stochastik' by\n",
    "# Dr. Niklas Hebestreit-Düsing"
   ]
  },
  {
   "cell_type": "markdown",
   "id": "49751e96-5c61-4e2e-84d4-4ea981873b21",
   "metadata": {},
   "source": [
    "(Aufgabe 118). Bestimmen Sie in $\\texttt{Python}$ die durchschnittliche Anzahl an Würfen, die benötigt wird, damit jede Augenzahl mindestens einmal gewürfelt wird."
   ]
  },
  {
   "cell_type": "code",
   "execution_count": 4,
   "id": "11e86d76-41f6-4358-9c71-e28b25469f40",
   "metadata": {},
   "outputs": [],
   "source": [
    "import random\n",
    "\n",
    "def count_throws(n:int, display_throw:bool) -> int:\n",
    "    \"\"\"\n",
    "    Simulates the coupon collector's problem in the context \n",
    "    of a dice roll. Calculates the number of rolls needed to\n",
    "    ensure that each number from 1 to n is rolled at least \n",
    "    once.\n",
    "    \n",
    "    Arguments:\n",
    "        n (int): The number of unique numbers. \n",
    "        \t\t For a dice take n = 6.\n",
    "        display_throw (bool): If True, prints each roll and \n",
    "                              the remaining missing numbers.\n",
    "    Returns:\n",
    "        count (int): The number of rolls required until all \n",
    "        \t\t\t numbers have appeared at least once.\n",
    "    \"\"\"\n",
    "    count = 0  \n",
    "    # List of numbers not yet rolled\n",
    "    remaining_numbers = list(range(1, n+1))  \n",
    "    \n",
    "    # Repeat until all numbers are rolled at least once\n",
    "    while remaining_numbers:  \n",
    "        count += 1\n",
    "        throw = random.randint(1, n)\n",
    "        # Check if the rolled number is still missing\n",
    "        if throw in remaining_numbers:  \n",
    "            # Remove the number from the list of missing numbers\n",
    "            remaining_numbers.remove(throw)  \n",
    "            \n",
    "        # Display results \n",
    "        # (this part can be commented out if not needed)\n",
    "        if display_throw:\n",
    "            print(f\"throw: {throw}, remaining numbers: {remaining_numbers}\")\n",
    "            \n",
    "    return count    "
   ]
  },
  {
   "cell_type": "code",
   "execution_count": 6,
   "id": "c26141e7-a7ed-46d6-922d-370e5a05c79a",
   "metadata": {},
   "outputs": [
    {
     "name": "stdout",
     "output_type": "stream",
     "text": [
      "throw: 2, remaining numbers: [1, 3, 4, 5, 6]\n",
      "throw: 6, remaining numbers: [1, 3, 4, 5]\n",
      "throw: 5, remaining numbers: [1, 3, 4]\n",
      "throw: 1, remaining numbers: [3, 4]\n",
      "throw: 4, remaining numbers: [3]\n",
      "throw: 3, remaining numbers: []\n"
     ]
    },
    {
     "data": {
      "text/plain": [
       "6"
      ]
     },
     "execution_count": 6,
     "metadata": {},
     "output_type": "execute_result"
    }
   ],
   "source": [
    "count_throws(6, True)"
   ]
  },
  {
   "cell_type": "code",
   "execution_count": 8,
   "id": "00944e91-f74b-4f85-aa9c-6beddcb0720f",
   "metadata": {},
   "outputs": [],
   "source": [
    "def simulate(n:int, runs:int) -> float:\n",
    "    \"\"\"\n",
    "    Simulates multiple runs of the coupon collector's problem \n",
    "    and calculates the expected number of rolls.\n",
    "    \n",
    "    Arguments:\n",
    "        n (int): The number of unique numbers.\n",
    "        runs (int): The number of simulation runs.\n",
    "    \n",
    "    Returns:\n",
    "        expected_throws (float): The average number of rolls \n",
    "        needed to collect all unique numbers.\n",
    "    \"\"\"\n",
    "    total_count = 0\n",
    "    for _ in range(1, runs + 1):\n",
    "        total_count += count_throws(n, False)\n",
    "    expected_throws = total_count / runs\n",
    "    \n",
    "    return expected_throws"
   ]
  },
  {
   "cell_type": "code",
   "execution_count": 10,
   "id": "72020474-d5b4-4681-8dd9-1745ad416729",
   "metadata": {},
   "outputs": [
    {
     "data": {
      "text/plain": [
       "14.6877"
      ]
     },
     "execution_count": 10,
     "metadata": {},
     "output_type": "execute_result"
    }
   ],
   "source": [
    "simulate(6, 10000)"
   ]
  },
  {
   "cell_type": "code",
   "execution_count": null,
   "id": "57a846ab-284e-43e0-ad19-d3739c93cf43",
   "metadata": {},
   "outputs": [],
   "source": []
  }
 ],
 "metadata": {
  "kernelspec": {
   "display_name": "Python [conda env:base] *",
   "language": "python",
   "name": "conda-base-py"
  },
  "language_info": {
   "codemirror_mode": {
    "name": "ipython",
    "version": 3
   },
   "file_extension": ".py",
   "mimetype": "text/x-python",
   "name": "python",
   "nbconvert_exporter": "python",
   "pygments_lexer": "ipython3",
   "version": "3.11.7"
  }
 },
 "nbformat": 4,
 "nbformat_minor": 5
}
