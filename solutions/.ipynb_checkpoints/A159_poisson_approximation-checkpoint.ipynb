{
 "cells": [
  {
   "cell_type": "markdown",
   "id": "4b6e1d5d-c510-408e-9a15-d9161bf16582",
   "metadata": {},
   "source": [
    "*This code is part of the book 'Übungs- und Lernbuch Wahrscheinlichkeitstheorie und Stochastik' by [Dr. Niklas Hebestreit-Düsing](https://dr-hebestreit.de/)* "
   ]
  },
  {
   "cell_type": "markdown",
   "id": "3b9ed9b3-80ec-417e-8e15-e19581832015",
   "metadata": {},
   "source": [
    "**(Aufgabe 159).** Bei der Übermittlung einer Nachricht per Telegraph, die aus $3000$ Buchstaben besteht, werden Buchstaben mit einer Wahrscheinlichkeit von $0,2 \\%$ fehlerhaft übertragen. Bestimmen Sie einmal exakt und anschließend mithilfe der Poisson-Approximation die Wahrscheinlichkeit, dass höchstens drei Buchstaben fehlerhaft übertragen werden. Benutzen Sie in beiden Fällen $\\texttt{Python}$."
   ]
  },
  {
   "cell_type": "markdown",
   "id": "e907886b-83c5-4b5c-b033-be0cecae9cb0",
   "metadata": {},
   "source": [
    "**Lösung 1 (exakt).**"
   ]
  },
  {
   "cell_type": "code",
   "execution_count": 55,
   "id": "1fed9d9a-a49b-4c2c-b773-d44dc4dd0955",
   "metadata": {},
   "outputs": [
    {
     "name": "stdout",
     "output_type": "stream",
     "text": [
      "The probability of at most 3 errors is 0.15094\n"
     ]
    }
   ],
   "source": [
    "import scipy.stats as stats\n",
    "\n",
    "# Total number of characters transmitted\n",
    "n = 3000 \n",
    "# Probability that a single character is transmitted incorrectly\n",
    "p = 0.002 \n",
    "# Number of errors\n",
    "k = 3\n",
    "\n",
    "# Use the cumulative distribution function (CDF) of the binomial distribution.\n",
    "# This calculates the probability that the number of errors is at most 3\n",
    "prob_error = stats.binom.cdf(k, n, p)\n",
    "print(f\"The probability of at most {k} errors is {prob_error:.5f}\")"
   ]
  },
  {
   "cell_type": "code",
   "execution_count": 57,
   "id": "78e00710-db0c-4417-8491-d4dc9436cbba",
   "metadata": {},
   "outputs": [
    {
     "name": "stdout",
     "output_type": "stream",
     "text": [
      "The probability of at most 3 errors is 0.15094\n"
     ]
    }
   ],
   "source": [
    "import math\n",
    "\n",
    "def cdf_binomial(k:int, n:int, p:float) -> float:\n",
    "    \"\"\"\n",
    "    Calculates the cumulative distribution function (CDF) of the binomial distribution.\n",
    "    \n",
    "    Arguments:\n",
    "        k (int): The maximum number of errors.\n",
    "        n (int): The total number of trials.\n",
    "        p (float): The probability of an error in a single trial.\n",
    "    \n",
    "    Returns:\n",
    "    cdf_result (float): The probability of having at most k errors.\n",
    "    \"\"\"\n",
    "    \n",
    "    cdf_result = 0\n",
    "    for i in range(0, k + 1):\n",
    "        # Compute the probability of exactly i errors\n",
    "        prob_i_errors = math.comb(n, i) * p**i * (1 - p)**(n-i)\n",
    "        cdf_result += prob_i_errors\n",
    "    \n",
    "    return cdf_result\n",
    "\n",
    "prob_error = cdf_binomial(k, n, p)\n",
    "\n",
    "print(f\"The probability of at most {k} errors is {prob_error:.5f}\")"
   ]
  },
  {
   "cell_type": "markdown",
   "id": "65a7e19e-5802-4f5a-9954-f1e0d5b575f3",
   "metadata": {},
   "source": [
    "**Lösung 2 (Poisson-Approxmation).**"
   ]
  },
  {
   "cell_type": "code",
   "execution_count": 59,
   "id": "198ffc24-98e5-4616-90f3-a5ca6543b83e",
   "metadata": {},
   "outputs": [
    {
     "name": "stdout",
     "output_type": "stream",
     "text": [
      "The probability of at most 3 errors is 0.15120\n"
     ]
    }
   ],
   "source": [
    "prob_error = math.exp(-6) * 61\n",
    "\n",
    "print(f\"The probability of at most {k} errors is {prob_error:.5f}\")"
   ]
  },
  {
   "cell_type": "code",
   "execution_count": 61,
   "id": "964fd8c8-ae08-4914-b779-093538212f64",
   "metadata": {},
   "outputs": [
    {
     "name": "stdout",
     "output_type": "stream",
     "text": [
      "The probability of at most 3 errors is 0.15120\n"
     ]
    }
   ],
   "source": [
    "alpha = n * p\n",
    "prob_error = stats.poisson.cdf(k, alpha)\n",
    "\n",
    "print(f\"The probability of at most {k} errors is {prob_error:.5f}\")"
   ]
  },
  {
   "cell_type": "code",
   "execution_count": null,
   "id": "f9df1010-34d4-4f8e-895c-723b3bfcdf34",
   "metadata": {},
   "outputs": [],
   "source": []
  }
 ],
 "metadata": {
  "kernelspec": {
   "display_name": "Python [conda env:base] *",
   "language": "python",
   "name": "conda-base-py"
  },
  "language_info": {
   "codemirror_mode": {
    "name": "ipython",
    "version": 3
   },
   "file_extension": ".py",
   "mimetype": "text/x-python",
   "name": "python",
   "nbconvert_exporter": "python",
   "pygments_lexer": "ipython3",
   "version": "3.11.7"
  }
 },
 "nbformat": 4,
 "nbformat_minor": 5
}
