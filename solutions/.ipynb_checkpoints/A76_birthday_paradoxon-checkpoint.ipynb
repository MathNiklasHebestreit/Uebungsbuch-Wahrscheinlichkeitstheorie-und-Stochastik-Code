{
 "cells": [
  {
   "cell_type": "markdown",
   "id": "e6bd7b93-23ac-4539-bc38-2a23dcb8ee96",
   "metadata": {},
   "source": [
    "**This code is part of the book 'Übungs- und Lernbuch Wahrscheinlichkeitstheorie und Stochastik' by Dr. Niklas Hebestreit-Düsing**"
   ]
  },
  {
   "cell_type": "markdown",
   "id": "0870d19e-c95e-4277-b50e-7bbf8d2a6d48",
   "metadata": {},
   "source": [
    "(Aufgabe 76, Geburtstagsparadoxon). Sei $n \\in \\mathbb N$  beliebig. Aus einer $n$-elementigen Menge werden mit Zurücklegen $k \\in \\{0, \\dotsc, n\\}$ viele Elemente gezogen.\n",
    "\n",
    "(a) Es bezeichne $p_{k,n}$ die Wahrscheinlichkeit, dass die $k$ Elemente voneinander verschieden sind. Begründen Sie\n",
    "\t$$\n",
    "\t\tp_{k,n} = \\prod_{j=0}^{k-1} \\left(1 - \\frac{j}{n}\\right)\n",
    "\t$$\n",
    "\t\n",
    "(b) Folgern Sie\n",
    "\t$$\n",
    "\t\tp_{k,n} \\approx \\exp\\left(- \\frac{k(k-1)}{2n}\\right)\n",
    "\t$$\n",
    "\tfalls $k$ sehr klein im Verhältnis zu $n$ ist.\n",
    "\t\n",
    "(c) Bestimmen Sie die Wahrscheinlichkeit $q_{k,n}$, dass beim $k$-fachen zufälligen Ziehen aus einer $n$-elementigen Menge mindestens zwei Elemente gleich sind. Berechnen Sie anschließend mithilfe von $\\texttt{Python}$ die kleinste natürliche Zahl $k \\in \\mathbb N$ mit $q_{k,365} \\geq 1/2$. Wie lässt sich dieses Ergebnis interpretieren? "
   ]
  },
  {
   "cell_type": "code",
   "execution_count": 39,
   "id": "fd95bf58-dc1b-4f5e-b92e-b3a866c65372",
   "metadata": {},
   "outputs": [],
   "source": [
    "def birthday(k:int, n:int) -> float:\n",
    "    \"\"\"\n",
    "    Calculates the probability that at least two people \n",
    "    share the same birthday in a group of k people, \n",
    "    assuming there are n possible birthdays.\n",
    "    \n",
    "    Args:\n",
    "        k (int): Number of people in the group.\n",
    "        n (int): Number of possible birthdays.\n",
    "    \n",
    "    Returns:\n",
    "        _ (float): Probability of at least one shared \n",
    "                   birthday.\n",
    "    \"\"\"\n",
    "    p = 1\n",
    "\n",
    "    # Compute probability that all k people have unique birthdays.\n",
    "    for j in range(k):\n",
    "        p *= (n - j) / n\n",
    "        \n",
    "    return 1 - p"
   ]
  },
  {
   "cell_type": "code",
   "execution_count": 30,
   "id": "ed82b049-ac13-4d1b-80ab-d5362d14c280",
   "metadata": {},
   "outputs": [
    {
     "data": {
      "text/plain": [
       "0.1670247888380645"
      ]
     },
     "execution_count": 30,
     "metadata": {},
     "output_type": "execute_result"
    }
   ],
   "source": [
    "birthday(12,365)"
   ]
  },
  {
   "cell_type": "code",
   "execution_count": 24,
   "id": "54a877a1-3b52-4dec-9ad7-0209cc12057a",
   "metadata": {},
   "outputs": [
    {
     "data": {
      "text/plain": [
       "0.8487340082163846"
      ]
     },
     "execution_count": 24,
     "metadata": {},
     "output_type": "execute_result"
    }
   ],
   "source": [
    "birthday(37,365)"
   ]
  },
  {
   "cell_type": "code",
   "execution_count": 41,
   "id": "9827029b-fb7e-44ca-86e4-d364678fdcc2",
   "metadata": {},
   "outputs": [
    {
     "data": {
      "text/plain": [
       "0.9999996927510721"
      ]
     },
     "execution_count": 41,
     "metadata": {},
     "output_type": "execute_result"
    }
   ],
   "source": [
    "birthday(100,365)"
   ]
  },
  {
   "cell_type": "code",
   "execution_count": 26,
   "id": "7fe1d2ea-93ad-4e03-99c1-c138ebabdcb1",
   "metadata": {},
   "outputs": [
    {
     "name": "stdout",
     "output_type": "stream",
     "text": [
      "The shared birthday probability of k = 23 persons is 0.5072972343239857\n"
     ]
    }
   ],
   "source": [
    "for k in range(0, 365):\n",
    "    q = birthday(k, 365)\n",
    "    if q >= 0.5:\n",
    "        print(f\"The shared birthday probability of k = {k} persons is {q}\")\n",
    "        break\n",
    "    else:\n",
    "        continue"
   ]
  },
  {
   "cell_type": "code",
   "execution_count": 32,
   "id": "7c93925f-8c2a-4ebd-96b2-f4aa997c9b2a",
   "metadata": {},
   "outputs": [
    {
     "data": {
      "text/plain": [
       "22.49419541570669"
      ]
     },
     "execution_count": 32,
     "metadata": {},
     "output_type": "execute_result"
    }
   ],
   "source": [
    "import math\n",
    "\n",
    "1.1774 * math.sqrt(365)"
   ]
  },
  {
   "cell_type": "code",
   "execution_count": null,
   "id": "ca8afe17-fe5d-4adf-a8cd-2da3a5e57e73",
   "metadata": {},
   "outputs": [],
   "source": []
  }
 ],
 "metadata": {
  "kernelspec": {
   "display_name": "Python [conda env:base] *",
   "language": "python",
   "name": "conda-base-py"
  },
  "language_info": {
   "codemirror_mode": {
    "name": "ipython",
    "version": 3
   },
   "file_extension": ".py",
   "mimetype": "text/x-python",
   "name": "python",
   "nbconvert_exporter": "python",
   "pygments_lexer": "ipython3",
   "version": "3.11.7"
  }
 },
 "nbformat": 4,
 "nbformat_minor": 5
}
