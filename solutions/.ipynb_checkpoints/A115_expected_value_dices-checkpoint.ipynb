{
 "cells": [
  {
   "cell_type": "markdown",
   "id": "648b8c9c-003a-4616-b96f-88ff220d084e",
   "metadata": {},
   "source": [
    "*This code is part of the book 'Übungs- und Lernbuch Wahrscheinlichkeitstheorie und Stochastik' by [Dr. Niklas Hebestreit-Düsing](https://dr-hebestreit.de/)* "
   ]
  },
  {
   "cell_type": "markdown",
   "id": "7d714b23-1348-4861-b67e-2866abc47cc7",
   "metadata": {},
   "source": [
    "**(Aufgabe 115, Dreifacher Würfelwurf).** Wir betrachten den symmetrischen Wahrscheinlichkeitsraum $(\\Omega, \\mathfrak{F}, \\mathbb P)$ mit\n",
    "$$\n",
    "\\Omega  := \\{1,\\dotsc,6\\}^3, \\qquad \\mathfrak{F} := \\mathfrak{P}(\\Omega),  \\qquad \\mathbb P (A)  := \\frac{|A|}{|\\Omega|}\n",
    "$$\n",
    "und die Zufallsvariable $X: \\Omega \\to \\mathbb R$ vermöge \n",
    "$$\n",
    "\tX(\\omega_1,\\omega_2,\\omega_3) := \\omega_1+\\omega_2+\\omega_3\n",
    "$$\n",
    "\n",
    "(a) Geben Sie eine mögliche Interpretation der Zufallsvariable $X$ an.\n",
    "\t\n",
    "(b) Ermitteln Sie alle Darstellungen der Zahl $5$ als Summe von drei Zahlen aus der Menge $\\{1, \\dotsc, 6\\}$. Bestimmen Sie anschließend in $\\texttt{Python}$, wie viele Möglichkeiten es gibt, eine beliebige natürliche Zahl als Summe von drei Zahlen aus $\\{1, \\dotsc, 6\\}$ zu schreiben.\n",
    "\t\n",
    "(c) Berechnen Sie den Erwartungswert der Zufallsvariable einmal anhand der Definition und anschließend mithilfe der Identität\n",
    "$$\n",
    "\\mathbb E [X] = \\sum_{n = 0}^{+\\infty} \\mathbb P(\\{X > n\\})\n",
    "$$\n",
    "Verwenden Sie in beiden Fällen $\\texttt{Python}$."
   ]
  },
  {
   "cell_type": "markdown",
   "id": "5e12d003-ae0f-44be-b732-9cc1bf23871a",
   "metadata": {},
   "source": [
    "**Lösung (b).**"
   ]
  },
  {
   "cell_type": "code",
   "execution_count": 10,
   "id": "1b627a66-2616-46e9-9824-ee075314b8e9",
   "metadata": {},
   "outputs": [],
   "source": [
    "from itertools import product\n",
    "\n",
    "def sum_of_three() -> dict[int, int]:\n",
    "    \"\"\"\n",
    "    Computes how many different ways a given number can be obtained \n",
    "    as the sum of three dice rolls. Each die shows a number from 1 to 6.\n",
    "       \n",
    "    Returns:\n",
    "        representations: A dictionary where the keys are possible sums,\n",
    "                         and the values are the number of combinations \n",
    "                         (representations) that result in each sum.\n",
    "    \"\"\"\n",
    "    \n",
    "    representations = {}\n",
    "\n",
    "    # Generate all possible outcomes of rolling three six-sided dice\n",
    "    for dices in product(range(1, 7), repeat = 3):\n",
    "        total_sum = dices[0] + dices[1] + dices[2]\n",
    "\n",
    "        # If this sum has been seen before, increment its count\n",
    "        # Otherwise, initialize the count for this sum\n",
    "        if total_sum in representations:\n",
    "            representations[total_sum] += 1  \n",
    "        else:\n",
    "            representations[total_sum] = 1     \n",
    "\n",
    "    return representations"
   ]
  },
  {
   "cell_type": "code",
   "execution_count": 28,
   "id": "afd7706a-6de1-4923-b703-ce731e49288b",
   "metadata": {},
   "outputs": [
    {
     "name": "stdout",
     "output_type": "stream",
     "text": [
      "sum of dice:  3, representations:  1\n",
      "sum of dice:  4, representations:  3\n",
      "sum of dice:  5, representations:  6\n",
      "sum of dice:  6, representations: 10\n",
      "sum of dice:  7, representations: 15\n",
      "sum of dice:  8, representations: 21\n",
      "sum of dice:  9, representations: 25\n",
      "sum of dice: 10, representations: 27\n",
      "sum of dice: 11, representations: 27\n",
      "sum of dice: 12, representations: 25\n",
      "sum of dice: 13, representations: 21\n",
      "sum of dice: 14, representations: 15\n",
      "sum of dice: 15, representations: 10\n",
      "sum of dice: 16, representations:  6\n",
      "sum of dice: 17, representations:  3\n",
      "sum of dice: 18, representations:  1\n"
     ]
    }
   ],
   "source": [
    "# Get the number of representations for each possible dice sum.\n",
    "# There are 27 possibilities to obtain 10 or 11 as the sum of three numbers from 1 to 6.\n",
    "\n",
    "for total_sum, count in sum_of_three().items():\n",
    "    print(f\"sum of dice: {total_sum:2}, representations: {count:2}\")"
   ]
  },
  {
   "cell_type": "markdown",
   "id": "d75c3a43-63e1-408b-acec-9b5dc3e2c0d5",
   "metadata": {},
   "source": [
    "**Lösung (c). Erwartungswert anhand Definition berechnen.**"
   ]
  },
  {
   "cell_type": "code",
   "execution_count": 42,
   "id": "dab87417-e943-42ab-a28b-af4e712999d8",
   "metadata": {},
   "outputs": [
    {
     "name": "stdout",
     "output_type": "stream",
     "text": [
      "expected value: 10.5\n"
     ]
    }
   ],
   "source": [
    "import numpy as np\n",
    "\n",
    "# Get the frequency (counts) and corresponding sums from the distribution\n",
    "distribution = sum_of_three()\n",
    "sums = list(distribution.keys())\n",
    "frequencies = list(distribution.values())\n",
    "\n",
    "# Compute the expected value as the dot product of sums and their frequencies,\n",
    "# divided by the total number of outcomes\n",
    "E = sum(np.multiply(sums, frequencies)) / 6**3\n",
    "\n",
    "print(f\"expected value: {E}\")"
   ]
  },
  {
   "cell_type": "code",
   "execution_count": 40,
   "id": "b998a6e1-14a1-45e4-ae7d-fb6424ac31db",
   "metadata": {},
   "outputs": [
    {
     "name": "stdout",
     "output_type": "stream",
     "text": [
      "expected value: 10.5\n"
     ]
    }
   ],
   "source": [
    "# Alternatively, without using numpy, the expected value may be calculated as follows:\n",
    "E = 0  \n",
    "\n",
    "# Compute the expected value\n",
    "for total_sum, count in sum_of_three().items():\n",
    "    E += total_sum * count / 6**3  \n",
    "    \n",
    "print(f\"expected value: {E}\")"
   ]
  },
  {
   "cell_type": "markdown",
   "id": "91940b64-155d-41af-b981-14351ec495dc",
   "metadata": {},
   "source": [
    "**Lösung (c). Erwartungswert mithilfe von Summenformel berechnen.**"
   ]
  },
  {
   "cell_type": "code",
   "execution_count": 46,
   "id": "39a027c3-d1d2-425a-be0c-d990626131b6",
   "metadata": {},
   "outputs": [],
   "source": [
    "def probability(n: int) -> float:\n",
    "    \"\"\"\n",
    "    Computes the probability that the sum of three dice rolls exceeds the value n.\n",
    "\n",
    "    Arguments:\n",
    "        n (int): The threshold value to compare the sum against.\n",
    "\n",
    "    Returns:\n",
    "        (float): The probability of the event {X > n}.\n",
    "    \"\"\"\n",
    "    if n <= 2:\n",
    "        # The minimum possible sum is 3\n",
    "        return 1.0\n",
    "    elif n >= 18:\n",
    "        # The maximum possible sum is 18\n",
    "        return 0\n",
    "    else:\n",
    "        # Sums the values from 3 to 18\n",
    "        index = n - 2\n",
    "        return sum(values[index:]) / 6**3"
   ]
  },
  {
   "cell_type": "code",
   "execution_count": 52,
   "id": "12b0ed36-d1b1-49e5-9a7b-d30e8bc54745",
   "metadata": {},
   "outputs": [
    {
     "data": {
      "text/plain": [
       "1.0"
      ]
     },
     "execution_count": 52,
     "metadata": {},
     "output_type": "execute_result"
    }
   ],
   "source": [
    "# Display probability of the event {X > 0}\n",
    "\n",
    "probability(0)"
   ]
  },
  {
   "cell_type": "code",
   "execution_count": 50,
   "id": "8dcd21b3-f6fa-4369-ae3d-a75dbdc9d969",
   "metadata": {},
   "outputs": [
    {
     "data": {
      "text/plain": [
       "0.046296296296296294"
      ]
     },
     "execution_count": 50,
     "metadata": {},
     "output_type": "execute_result"
    }
   ],
   "source": [
    "# Display probability of the event {X > 15}\n",
    "\n",
    "probability(15)"
   ]
  },
  {
   "cell_type": "code",
   "execution_count": 56,
   "id": "b0977315-0df9-4476-ba0b-a9b9b3145dfd",
   "metadata": {},
   "outputs": [
    {
     "name": "stdout",
     "output_type": "stream",
     "text": [
      "expected value: 10.5\n"
     ]
    }
   ],
   "source": [
    "# Calculate expected value using the sum formula\n",
    "\n",
    "E = sum([probability(n) for n in range(18)])\n",
    "\n",
    "print(f\"expected value: {E}\")"
   ]
  },
  {
   "cell_type": "code",
   "execution_count": null,
   "id": "78a48f1a-2cce-4b0f-96d9-3e245884c530",
   "metadata": {},
   "outputs": [],
   "source": []
  }
 ],
 "metadata": {
  "kernelspec": {
   "display_name": "Python [conda env:base] *",
   "language": "python",
   "name": "conda-base-py"
  },
  "language_info": {
   "codemirror_mode": {
    "name": "ipython",
    "version": 3
   },
   "file_extension": ".py",
   "mimetype": "text/x-python",
   "name": "python",
   "nbconvert_exporter": "python",
   "pygments_lexer": "ipython3",
   "version": "3.11.7"
  }
 },
 "nbformat": 4,
 "nbformat_minor": 5
}
