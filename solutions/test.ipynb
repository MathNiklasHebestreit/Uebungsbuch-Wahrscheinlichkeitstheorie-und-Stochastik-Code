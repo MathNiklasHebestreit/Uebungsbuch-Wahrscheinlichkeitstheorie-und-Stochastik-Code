{
 "cells": [
  {
   "cell_type": "code",
   "execution_count": 1,
   "id": "4ab307fc-c1ef-453e-b228-ac4b1215798c",
   "metadata": {},
   "outputs": [
    {
     "name": "stdout",
     "output_type": "stream",
     "text": [
      "1264937032042997393488322\n"
     ]
    }
   ],
   "source": [
    "def fibonacci(n):\n",
    "    \"\"\"\n",
    "    Computes the n-th element in the Fibonacci sequence.\n",
    "\n",
    "    Argument:\n",
    "        n (int): A nonnegative integer.\n",
    "    Result:\n",
    "        (int): The n-th element in the Fibonacci sequence.\n",
    "    \"\"\"\n",
    "    \n",
    "    # Initial values\n",
    "    a, b = 0, 1\n",
    "    # Iteratively compute successive elements\n",
    "    for _ in range(n):\n",
    "        a, b = b, a + b\n",
    "    return a\n",
    "\n",
    "# Compute the 117th Fibonacci number \n",
    "print(fibonacci(117))"
   ]
  },
  {
   "cell_type": "code",
   "execution_count": null,
   "id": "d07c0d97-73d3-43e1-8b8e-a7146348b196",
   "metadata": {},
   "outputs": [],
   "source": []
  }
 ],
 "metadata": {
  "kernelspec": {
   "display_name": "Python [conda env:base] *",
   "language": "python",
   "name": "conda-base-py"
  },
  "language_info": {
   "codemirror_mode": {
    "name": "ipython",
    "version": 3
   },
   "file_extension": ".py",
   "mimetype": "text/x-python",
   "name": "python",
   "nbconvert_exporter": "python",
   "pygments_lexer": "ipython3",
   "version": "3.11.7"
  }
 },
 "nbformat": 4,
 "nbformat_minor": 5
}
