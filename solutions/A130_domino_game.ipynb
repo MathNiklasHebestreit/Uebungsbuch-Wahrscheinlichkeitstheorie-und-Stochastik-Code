{
 "cells": [
  {
   "cell_type": "code",
   "execution_count": 87,
   "id": "a1d3b259-6190-4a6b-a560-e6a2b7dd1c3b",
   "metadata": {},
   "outputs": [],
   "source": [
    "# This code is part of the book 'Übungs- und Lernbuch Wahrscheinlichkeitstheorie und Stochastik' by\n",
    "# Dr. Niklas Hebestreit-Düsing"
   ]
  },
  {
   "cell_type": "markdown",
   "id": "73ac4dd4-9abb-4d7f-b64d-52502e4fac54",
   "metadata": {},
   "source": [
    "(Aufgabe 130). Betrachten Sie eine unendliche Reihe von Dominosteinen, die aufsteigend nummeriert sind, also $1$, $2$, $3$ und so weiter. Der erste Stein wird angestoßen und fällt um. Jeder folgende Dominostein fällt nur dann um, wenn der vorherige Stein erfolgreich umgefallen ist. \n",
    "Die Wahrscheinlichkeit, dass der $n$-te Dominostein fällt, nachdem der Vorgängerstein umgefallen ist, betrage $1/n$.\n",
    "Falls ein Dominostein nicht umfällt, wird die gesamte Reihe von Dominosteinen wieder aufgebaut, und der Prozess beginnt von vorne.\n",
    "Die Zufallsvariable $X$ beschreibe den Index des letzten Dominosteins, der erfolgreich umgefallen ist, bevor ein Stein nicht mehr fällt.\n",
    "\n",
    "(a) Bestimmen Sie die Verteilung von $X$.\n",
    "\t\n",
    "(b) Simulieren Sie das obige Zufallsexperiment in $\\texttt{Python}$ und bestimmen Sie so eine Näherung für den Erwartungswert und die Varianz von $X$.\n",
    "\t\n",
    "(c) Berechnen Sie den Erwartungswert und die Varianz von $X$ exakt."
   ]
  },
  {
   "cell_type": "code",
   "execution_count": 89,
   "id": "2621a15b-0dde-44a9-b56a-60aea0e14cc5",
   "metadata": {},
   "outputs": [],
   "source": [
    "import random\n",
    "\n",
    "def dominos() -> int:\n",
    "    \"\"\"\n",
    "    Simulates the falling of a sequence of domino stones.\n",
    "    \n",
    "    Returns:\n",
    "        stone (int): The index of the last domino that \n",
    "                     falls before stopping.\n",
    "    \"\"\"\n",
    "    \n",
    "    stone = 1\n",
    "    \n",
    "    while True:\n",
    "        if random.random() > 1 / stone:\n",
    "            return stone - 1  \n",
    "        stone += 1"
   ]
  },
  {
   "cell_type": "code",
   "execution_count": 90,
   "id": "b9576c08-3c4d-4427-abab-32fe13fdf18f",
   "metadata": {},
   "outputs": [
    {
     "name": "stdout",
     "output_type": "stream",
     "text": [
      "last domino to fall: 1\n",
      "last domino to fall: 1\n",
      "last domino to fall: 1\n",
      "last domino to fall: 2\n",
      "last domino to fall: 1\n",
      "last domino to fall: 1\n",
      "last domino to fall: 1\n",
      "last domino to fall: 3\n",
      "last domino to fall: 2\n",
      "last domino to fall: 1\n"
     ]
    }
   ],
   "source": [
    "# Illustration of 10 domino games\n",
    "\n",
    "for _ in range(1, 11):\n",
    "    print(\"last domino to fall:\", dominos())"
   ]
  },
  {
   "cell_type": "code",
   "execution_count": 91,
   "id": "0bf51cec-d703-4a2c-a88a-8a90a965c895",
   "metadata": {},
   "outputs": [],
   "source": [
    "def simulate(runs:int) -> list:\n",
    "    \"\"\"\n",
    "    Simulates multiple runs of the domino game.\n",
    "\n",
    "    Arguments:\n",
    "        runs (int): The number of simulation runs.\n",
    "    \n",
    "    Returns:\n",
    "        results (list):  A list containing the index of the last falling domino for each run.\n",
    "    \"\"\"\n",
    "    \n",
    "    results = [dominos() for _ in range(runs)]\n",
    "    return results"
   ]
  },
  {
   "cell_type": "code",
   "execution_count": 92,
   "id": "d081f49a-1203-45ff-9220-ee23d8f54a28",
   "metadata": {},
   "outputs": [
    {
     "name": "stdout",
     "output_type": "stream",
     "text": [
      "expected value: 1.71704\n",
      "variance: 0.7670136384002892\n"
     ]
    }
   ],
   "source": [
    "# Calculate the expected value and variance of the random variable\n",
    "\n",
    "runs = 100000\n",
    "results = simulate(runs)\n",
    "E = sum(results) / runs\n",
    "V = sum((n - E) ** 2 for n in results) / runs\n",
    "\n",
    "print(\"expected value:\", E)\n",
    "print(\"variance:\", V)"
   ]
  },
  {
   "cell_type": "code",
   "execution_count": null,
   "id": "50a33c0e-e84d-46bd-b6ed-16490b926da6",
   "metadata": {},
   "outputs": [],
   "source": []
  }
 ],
 "metadata": {
  "kernelspec": {
   "display_name": "Python [conda env:base] *",
   "language": "python",
   "name": "conda-base-py"
  },
  "language_info": {
   "codemirror_mode": {
    "name": "ipython",
    "version": 3
   },
   "file_extension": ".py",
   "mimetype": "text/x-python",
   "name": "python",
   "nbconvert_exporter": "python",
   "pygments_lexer": "ipython3",
   "version": "3.11.7"
  }
 },
 "nbformat": 4,
 "nbformat_minor": 5
}
