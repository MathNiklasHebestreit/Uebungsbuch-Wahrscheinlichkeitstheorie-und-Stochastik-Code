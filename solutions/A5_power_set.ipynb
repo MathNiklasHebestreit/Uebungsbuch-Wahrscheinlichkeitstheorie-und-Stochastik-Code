{
 "cells": [
  {
   "cell_type": "markdown",
   "metadata": {},
   "source": [
    "*This code is part of the book 'Übungs- und Lernbuch Wahrscheinlichkeitstheorie und Stochastik' by [Dr. Niklas Hebestreit-Düsing](https://dr-hebestreit.de/)* "
   ]
  },
  {
   "cell_type": "markdown",
   "metadata": {},
   "source": [
    "**(Aufgabe 5, Mächtigkeit der Potenzmenge).** Sei $X$ eine endliche Menge. Zeigen Sie, dass für die Mächtigkeit der Potenzmenge\r",
    "$$\n",
    "\t| \\mathfrak{P}(X)| = 2^{|X|}\n",
    "$$\r",
    "gilt. \n",
    "Die Potenzmenge von $X$ enthält also genau $2^{|X|}$ Teilmengen.Verifizieren Sie diese Identität anschließend exemplarisch für eine vier-elementige Menge mithilfe von $\\texttt{SageMath}$."
   ]
  },
  {
   "cell_type": "markdown",
   "metadata": {},
   "source": [
    "**Lösung 1 (kombinatorisches Argument).**"
   ]
  },
  {
   "cell_type": "code",
   "execution_count": 1,
   "metadata": {
    "collapsed": false,
    "jupyter": {
     "outputs_hidden": false
    }
   },
   "outputs": [
    {
     "data": {
      "text/plain": [
       "[{},\n",
       " {1},\n",
       " {2},\n",
       " {3},\n",
       " {4},\n",
       " {1, 2},\n",
       " {1, 3},\n",
       " {1, 4},\n",
       " {2, 3},\n",
       " {2, 4},\n",
       " {3, 4},\n",
       " {1, 2, 3},\n",
       " {1, 2, 4},\n",
       " {1, 3, 4},\n",
       " {2, 3, 4},\n",
       " {1, 2, 3, 4}]"
      ]
     },
     "execution_count": 1,
     "metadata": {},
     "output_type": "execute_result"
    }
   ],
   "source": [
    "# Generate the power set of {1, 2, 3, 4}. \n",
    "# Alternatively, you can use Subsets([1, 2, 3, 4]) for the same result.\n",
    "\n",
    "Subsets(4).list()"
   ]
  },
  {
   "cell_type": "code",
   "execution_count": 2,
   "metadata": {
    "collapsed": false,
    "jupyter": {
     "outputs_hidden": false
    }
   },
   "outputs": [
    {
     "data": {
      "text/plain": [
       "[{1, 2, 3}, {1, 2, 4}, {1, 3, 4}, {2, 3, 4}]"
      ]
     },
     "execution_count": 2,
     "metadata": {},
     "output_type": "execute_result"
    }
   ],
   "source": [
    "# Subsets of {1, 2, 3, 4} with 3 elements\n",
    "\n",
    "Subsets(4, 3).list()"
   ]
  },
  {
   "cell_type": "code",
   "execution_count": 4,
   "metadata": {
    "collapsed": false,
    "jupyter": {
     "outputs_hidden": false
    }
   },
   "outputs": [
    {
     "name": "stdout",
     "output_type": "stream",
     "text": [
      "The powerset of {1, ..., 4} contains 16 elements\n"
     ]
    }
   ],
   "source": [
    "n = 4\n",
    "card = 0\n",
    "\n",
    "# Loop over all possible subset sizes from 0 to n\n",
    "for k in range(n + 1):\n",
    "    # Add the number of subsets of size k to the total count\n",
    "    card += len(Subsets(n, k))\n",
    "    \n",
    "print(f\"The powerset of {{1, ..., {n}}} contains {card} elements\") "
   ]
  },
  {
   "cell_type": "markdown",
   "metadata": {},
   "source": [
    "**Lösung 2 (vollständige Induktion).**"
   ]
  },
  {
   "cell_type": "code",
   "execution_count": 5,
   "metadata": {
    "collapsed": false,
    "jupyter": {
     "outputs_hidden": false
    }
   },
   "outputs": [
    {
     "name": "stdout",
     "output_type": "stream",
     "text": [
      "Randomly selected element: 2\n",
      "\n",
      "Subsets of {1, ..., 4} that contain 2:\n",
      "{2}\n",
      "{1, 2}\n",
      "{2, 3}\n",
      "{2, 4}\n",
      "{1, 2, 3}\n",
      "{1, 2, 4}\n",
      "{2, 3, 4}\n",
      "{1, 2, 3, 4}\n",
      "In total, these are 8 subsets.\n",
      "\n",
      "Subsets that do not contain 2:\n",
      "{}\n",
      "{1}\n",
      "{3}\n",
      "{4}\n",
      "{1, 3}\n",
      "{1, 4}\n",
      "{3, 4}\n",
      "{1, 3, 4}\n",
      "In total, these are 8 subsets.\n"
     ]
    }
   ],
   "source": [
    "import random\n",
    "\n",
    "n = 4\n",
    "# Choose a random element from {1, ..., n}\n",
    "x = random.randint(1, n)\n",
    "# Lists to hold subsets that include or exclude the randomly\n",
    "# chosen element\n",
    "subsets_with_x = []\n",
    "subsets_without_x = []\n",
    "\n",
    "for A in Subsets(n):\n",
    "    if x in A:\n",
    "        subsets_with_x.append(A)\n",
    "    else:\n",
    "        subsets_without_x.append(A)\n",
    "\n",
    "# Display results\n",
    "print(f\"Randomly selected element: {x}\\n\")\n",
    "print(f\"Subsets of {{1, ..., {n}}} that contain {x}:\")\n",
    "for A in subsets_with_x:\n",
    "    print(A)\n",
    "print(f\"In total, these are {len(subsets_with_x)} subsets.\\n\")\n",
    "\n",
    "print(f\"Subsets that do not contain {x}:\")\n",
    "for A in subsets_without_x:\n",
    "    print(A)\n",
    "print(f\"In total, these are {len(subsets_without_x)} subsets.\")"
   ]
  },
  {
   "cell_type": "code",
   "execution_count": null,
   "metadata": {
    "collapsed": false,
    "jupyter": {
     "outputs_hidden": false
    }
   },
   "outputs": [],
   "source": []
  }
 ],
 "metadata": {
  "kernelspec": {
   "display_name": "Python [conda env:base] *",
   "language": "python",
   "name": "conda-base-py"
  },
  "language_info": {
   "codemirror_mode": {
    "name": "ipython",
    "version": 3
   },
   "file_extension": ".py",
   "mimetype": "text/x-python",
   "name": "python",
   "nbconvert_exporter": "python",
   "pygments_lexer": "ipython3",
   "version": "3.11.7"
  }
 },
 "nbformat": 4,
 "nbformat_minor": 4
}
