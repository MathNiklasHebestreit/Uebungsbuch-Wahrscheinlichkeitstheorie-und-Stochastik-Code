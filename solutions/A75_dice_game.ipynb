{
 "cells": [
  {
   "cell_type": "code",
   "execution_count": null,
   "id": "5f77c067-01c0-4946-9457-68ba64bf881b",
   "metadata": {},
   "outputs": [],
   "source": [
    "# This code is part of the book 'Übungs- und Lernbuch Wahrscheinlichkeitstheorie und Stochastik' by\n",
    "# Dr. Niklas Hebestreit-Düsing"
   ]
  },
  {
   "cell_type": "markdown",
   "id": "1f97de64-2d38-4a83-8d16-e615007c6d67",
   "metadata": {},
   "source": [
    "(Aufgabe 75). Bei einem Würfelspiel werfen Anton und Bert abwechseln einen fairen Würfel, bis eine $6$ erscheint. Anton würfelt zuerst. Gewinner des Spiels ist derjenige, der als erstes eine $6$ würfelt. Bestimmen Sie die Gewinnwahrscheinlichkeiten beider Spieler mit $\\texttt{Python}$ und begründen Sie anschließend Ihr Ergebnis durch eine Rechnung."
   ]
  },
  {
   "cell_type": "code",
   "execution_count": 26,
   "id": "e682f0f7-2ebc-4176-96f3-67d5dee8cb7f",
   "metadata": {},
   "outputs": [],
   "source": [
    "import random\n",
    "\n",
    "def play_game() -> str:\n",
    "    \"\"\"\n",
    "    Simulates a game where Anton and Bert take turns rolling a \n",
    "    six-sided die. The first player to roll a 6 wins the game.\n",
    "    \n",
    "    Returns:\n",
    "        str: The winner of the game.\n",
    "    \"\"\"\n",
    "    while True:\n",
    "        # Anton rolls first\n",
    "        if random.randint(1, 6) == 6:\n",
    "            return \"Anton\"\n",
    "        if random.randint(1, 6) == 6:\n",
    "            return \"Bert\""
   ]
  },
  {
   "cell_type": "code",
   "execution_count": 38,
   "id": "ae74b5d2-603b-4967-aea4-3b5ce8bbf014",
   "metadata": {},
   "outputs": [
    {
     "name": "stdout",
     "output_type": "stream",
     "text": [
      "Anton wins the game\n",
      "Bert wins the game\n",
      "Anton wins the game\n",
      "Anton wins the game\n",
      "Bert wins the game\n"
     ]
    }
   ],
   "source": [
    "for _ in range(1, 6):\n",
    "    print(play_game() + \" wins the game\")"
   ]
  },
  {
   "cell_type": "code",
   "execution_count": 47,
   "id": "e31266c0-5487-4340-9e11-f00850c9b51d",
   "metadata": {},
   "outputs": [
    {
     "name": "stdout",
     "output_type": "stream",
     "text": [
      "probability of Anton winning: 0.545722\n",
      "probability of Bert winning: 0.454278\n"
     ]
    }
   ],
   "source": [
    "def estimate_probabilities(runs:int) -> list:\n",
    "    \"\"\"\n",
    "    Estimates the probabilities of Anton and Bert winning \n",
    "    the game by simulating multiple runs.\n",
    "\n",
    "    Args:\n",
    "        runs (int): The number of game simulations to perform.\n",
    "\n",
    "    Returns:\n",
    "        _ (list): A list containing the estimated probability \n",
    "        \t\t  of Anton and Bert winning.\n",
    "    \"\"\"\n",
    "    anton_wins = 0\n",
    "    bert_wins = 0\n",
    "\n",
    "    for _ in range(runs):\n",
    "        winner = play_game()\n",
    "        if winner == \"Anton\":\n",
    "            anton_wins += 1\n",
    "        else:\n",
    "            bert_wins += 1\n",
    "            \n",
    "    return [anton_wins / runs, bert_wins / runs] \n",
    "\n",
    "runs = 100000\n",
    "probabilities = estimate_probabilities(runs)\n",
    "\n",
    "print(\"probability of Anton winning:\", probabilities[0])\n",
    "print(\"probability of Bert winning:\", probabilities[1])"
   ]
  },
  {
   "cell_type": "code",
   "execution_count": null,
   "id": "040c1b69-685c-40d6-8bdb-a50cab04e436",
   "metadata": {},
   "outputs": [],
   "source": []
  }
 ],
 "metadata": {
  "kernelspec": {
   "display_name": "Python [conda env:base] *",
   "language": "python",
   "name": "conda-base-py"
  },
  "language_info": {
   "codemirror_mode": {
    "name": "ipython",
    "version": 3
   },
   "file_extension": ".py",
   "mimetype": "text/x-python",
   "name": "python",
   "nbconvert_exporter": "python",
   "pygments_lexer": "ipython3",
   "version": "3.11.7"
  }
 },
 "nbformat": 4,
 "nbformat_minor": 5
}
