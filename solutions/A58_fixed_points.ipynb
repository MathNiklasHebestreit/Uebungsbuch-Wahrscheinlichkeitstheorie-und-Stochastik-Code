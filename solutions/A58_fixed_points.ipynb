{
 "cells": [
  {
   "cell_type": "markdown",
   "metadata": {},
   "source": [
    "*This code is part of the book 'Übungs- und Lernbuch Wahrscheinlichkeitstheorie und Stochastik' by [Dr. Niklas Hebestreit-Düsing](https://dr-hebestreit.de/)* "
   ]
  },
  {
   "cell_type": "markdown",
   "metadata": {},
   "source": [
    "**(Aufgabe 58, Permutationen mit Fixpunkten).** Gegeben sei eine natürliche Zahl $n \\in \\mathbb N$ sowie die Menge $\\Omega := \\{1, \\dotsc, n\\}$.  Berechnen Sie die Wahrscheinlichkeit, dass eine zufällig gewählte Permutation $\\pi : \\Omega \\to \\Omega$ der Menge $\\Omega$ mindestens einen Fixpunkt besitzt, das heißt, dass es ein Element $k \\in \\Omega$ gibt mit \n",
    "$$\n",
    "\\pi(k) = k\n",
    "$$\n",
    "Überprüfen Sie anschließend Ihr Ergebnis mithilfe von $\\texttt{SageMath}$."
   ]
  },
  {
   "cell_type": "markdown",
   "metadata": {},
   "source": [
    "**Lösung**"
   ]
  },
  {
   "cell_type": "code",
   "execution_count": 1,
   "metadata": {
    "collapsed": false,
    "jupyter": {
     "outputs_hidden": false
    }
   },
   "outputs": [
    {
     "data": {
      "text/plain": [
       "[1, 3, 2]"
      ]
     },
     "execution_count": 1,
     "metadata": {},
     "output_type": "execute_result"
    }
   ],
   "source": [
    "# This permutation maps 1 -> 1, 2 -> 3, and 3 -> 2.\n",
    "# Only the element 1 remains fixed, so 1 is the only fixed point.\n",
    "\n",
    "Permutation([1, 3, 2])"
   ]
  },
  {
   "cell_type": "code",
   "execution_count": 2,
   "metadata": {
    "collapsed": false,
    "jupyter": {
     "outputs_hidden": false
    }
   },
   "outputs": [
    {
     "data": {
      "text/plain": [
       "[1]"
      ]
     },
     "execution_count": 2,
     "metadata": {},
     "output_type": "execute_result"
    }
   ],
   "source": [
    "# Compute the fixed points of the permutation [1, 3, 2]\n",
    "\n",
    "Permutation([1, 3, 2]).fixed_points()"
   ]
  },
  {
   "cell_type": "code",
   "execution_count": 3,
   "metadata": {
    "collapsed": false,
    "jupyter": {
     "outputs_hidden": false
    }
   },
   "outputs": [
    {
     "data": {
      "text/plain": [
       "[[1, 2, 3], [1, 3, 2], [2, 1, 3], [2, 3, 1], [3, 1, 2], [3, 2, 1]]"
      ]
     },
     "execution_count": 3,
     "metadata": {},
     "output_type": "execute_result"
    }
   ],
   "source": [
    "# Compute all permutations of the set {1, 2, 3}\n",
    "\n",
    "Permutations(range(1, 4)).list()"
   ]
  },
  {
   "cell_type": "code",
   "execution_count": 4,
   "metadata": {
    "collapsed": false,
    "jupyter": {
     "outputs_hidden": false
    }
   },
   "outputs": [],
   "source": [
    "def calculate_probability(n: int) -> [list[int], float]:\n",
    "    \"\"\"\n",
    "    Calculates the probability that a random permutation \n",
    "    of the set {1, 2, ..., n} has at least one fixed point.\n",
    "\n",
    "    Arguments:\n",
    "    n (int): The size of the set for which the permutation \n",
    "             probability is calculated.\n",
    "\n",
    "    Returns:\n",
    "    List: A list of permutations that have at least one \n",
    "          fixed point.\n",
    "    float: The probability that a random permutation has \n",
    "           at least one fixed point.\n",
    "    \"\"\"\n",
    "\n",
    "    # Generate all permutations of the set {1, ..., n}\n",
    "    permutations = Permutations(range(1, n + 1)).list()\n",
    "\n",
    "    fixed_permutations = []\n",
    "\n",
    "    # Iterate over all generated permutations\n",
    "    for perm in permutations:\n",
    "        # Check if the permutation has at least one fixed \n",
    "        # point\n",
    "        if len(Permutation(perm).fixed_points()) > 0:\n",
    "            # If it has a fixed point, add it to the \n",
    "            # list of fixed_permutations\n",
    "            fixed_permutations.append(perm)\n",
    "            \n",
    "    # Calculate the probability as the ratio of \n",
    "    # permutations with fixed points\n",
    "    probability = len(fixed_permutations) / len(permutations)\n",
    "    \n",
    "    return [fixed_permutations, probability]"
   ]
  },
  {
   "cell_type": "code",
   "execution_count": 10,
   "metadata": {
    "collapsed": false,
    "jupyter": {
     "outputs_hidden": false
    }
   },
   "outputs": [
    {
     "name": "stdout",
     "output_type": "stream",
     "text": [
      "n    Total Perm.         Perm. with Fixed Points         Probability    \n",
      "0    1                   0                               0.0000\n",
      "1    1                   1                               1.0000\n",
      "2    2                   1                               0.5000\n",
      "3    6                   4                               0.6667\n",
      "4    24                  15                              0.6250\n",
      "5    120                 76                              0.6333\n",
      "6    720                 455                             0.6319\n",
      "7    5040                3186                            0.6321\n",
      "8    40320               25487                           0.6321\n"
     ]
    }
   ],
   "source": [
    "# Show the total permutations, the count of permutations with \n",
    "# fixed points, and the probability that a permutation has at \n",
    "# least one fixed point\n",
    "\n",
    "print(f\"{'n':<5}{'Total Perm.':<20}{'Perm. with Fixed Points':<32}{'Probability':<15}\")\n",
    "for n in range(0, 9):\n",
    "    fixed_permutations, probability = calculate_probability(n) \n",
    "    print(f\"{n:<5}{factorial(n):<20}{len(fixed_permutations):<32}{probability:.4f}\")"
   ]
  },
  {
   "cell_type": "code",
   "execution_count": null,
   "metadata": {
    "collapsed": false,
    "jupyter": {
     "outputs_hidden": false
    }
   },
   "outputs": [],
   "source": []
  }
 ],
 "metadata": {
  "kernelspec": {
   "display_name": "Python [conda env:base] *",
   "language": "python",
   "name": "conda-base-py"
  },
  "language_info": {
   "codemirror_mode": {
    "name": "ipython",
    "version": 3
   },
   "file_extension": ".py",
   "mimetype": "text/x-python",
   "name": "python",
   "nbconvert_exporter": "python",
   "pygments_lexer": "ipython3",
   "version": "3.11.7"
  }
 },
 "nbformat": 4,
 "nbformat_minor": 4
}
