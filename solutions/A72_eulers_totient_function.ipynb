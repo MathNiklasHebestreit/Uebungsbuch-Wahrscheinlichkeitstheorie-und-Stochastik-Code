{
 "cells": [
  {
   "cell_type": "markdown",
   "metadata": {
    "collapsed": false,
    "jupyter": {
     "outputs_hidden": false
    }
   },
   "source": [
    "*This code is part of the book 'Übungs- und Lernbuch Wahrscheinlichkeitstheorie und Stochastik' by [Dr. Niklas Hebestreit-Düsing](https://dr-hebestreit.de/)* "
   ]
  },
  {
   "cell_type": "markdown",
   "metadata": {
    "collapsed": false,
    "jupyter": {
     "outputs_hidden": false
    }
   },
   "source": [
    "**(Aufgabe 72, Eulersche Funktion).**\n",
    "In der Algebra und Kryptographie spielt die sogenannte Eulersche Funktion $\\varphi : \\mathbb N \\to \\mathbb N$ mit\n",
    "\\begin{align*}\n",
    "\t\\varphi(n) := | \\{ k \\in \\{1, \\dotsc, n\\} \\mid \\operatorname{ggT}(k,n)= 1\\} |\n",
    "\\end{align*}\n",
    "eine wichtige Rolle. Diese zählt alle zu $n \\in \\mathbb N$ teilerfremden Zahlen aus $\\{1, \\dotsc, n\\}$ oder in anderen Worten die Mächtigkeit der Einheitengruppe $\\mathbb Z_n^\\times$ des Restklassenrings $\\mathbb Z_n$. Im Folgenden soll die allgemeine Berechnungsformel\n",
    "$$\n",
    "\t\\varphi(n) = n \\prod_{j=1}^{r} \\left(1 - \\frac{1}{p_j}\\right)\n",
    "$$\n",
    "mithilfe von Mitteln der Wahrscheinlichkeitstheorie und Stochastik hergeleitet werden, wobei $n \\in \\mathbb N$ die Primfaktorzerlegung $n = p_1^{\\nu_1} \\cdot \\dotsc \\cdot p_r^{\\nu_r}$ besitzt. Dabei sind $r \\in \\mathbb N$ eine natürliche Zahl, $p_1, \\dotsc, p_r \\in \\mathbb N$ verschiedene Primzahlen und $\\nu_1, \\dotsc, \\nu_r \\in \\mathbb N$ die Vielfachheiten der Primzahlen. Weiter wird für jede natürliche Zahl $p \\in \\mathbb N$ das Ereignis\n",
    "$$\n",
    "\tA_p := \\big\\{m \\in \\{1, \\dotsc, n\\} \\mid p \\text{ teilt } m \\big\\}\n",
    "$$\n",
    "definiert.\n",
    "Gehen Sie für die Herleitung der obigen Gleichung wie folgt vor:\n",
    "\n",
    "(a) Verifizieren Sie die Berechnungsformel der Eulerschen Funktion in $\\texttt{SageMath}$. Prüfen Sie dazu die Gleichung für $n \\in \\{3,10,18,64,997\\}$.\n",
    "\t\n",
    "(b) Verifizieren Sie die Gleichung im Fall, dass $n \\in \\mathbb N$ eine Primzahl ist.\n",
    "\t\n",
    "(c) Zeigen Sie, dass die Folge der Ereignisse $(A_{p_j})_{1 \\leq j \\leq 2}$ im Fall $n = 10$ unabhängig ist und folgern Sie damit die obige Gleichung. Beim zugrundeliegenden Wahrscheinlichkeitsraum handelt es sich um den symmetrischen Wahrscheinlichkeitsraum $(\\Omega, \\mathfrak{F}, \\mathbb P)$ mit $\\Omega := \\{1, \\dotsc, 10\\}$ und $\\mathfrak{F}:= \\mathfrak{P}(\\Omega)$.\n",
    " \n",
    "(d) Verallgemeinern Sie Ihre Beobachtung aus Teil (c) dieser Aufgabe und beweisen Sie damit die obige Gleichung für jede beliebige natürliche Zahl $n \\in \\mathbb N$.\n"
   ]
  },
  {
   "cell_type": "markdown",
   "metadata": {
    "collapsed": false,
    "jupyter": {
     "outputs_hidden": false
    }
   },
   "source": [
    "**Lösung (a).**"
   ]
  },
  {
   "cell_type": "code",
   "execution_count": 3,
   "metadata": {
    "collapsed": false,
    "jupyter": {
     "outputs_hidden": false
    }
   },
   "outputs": [
    {
     "data": {
      "text/plain": [
       "2^2 * 7"
      ]
     },
     "execution_count": 3,
     "metadata": {},
     "output_type": "execute_result"
    }
   ],
   "source": [
    "# Prime factor decomposition of 28\n",
    "\n",
    "factor(28)"
   ]
  },
  {
   "cell_type": "code",
   "execution_count": 4,
   "metadata": {
    "collapsed": false,
    "jupyter": {
     "outputs_hidden": false
    }
   },
   "outputs": [
    {
     "data": {
      "text/plain": [
       "[2, 7]"
      ]
     },
     "execution_count": 4,
     "metadata": {},
     "output_type": "execute_result"
    }
   ],
   "source": [
    "# Prime factors of 28\n",
    "\n",
    "[p for (p,v) in factor(28)]"
   ]
  },
  {
   "cell_type": "code",
   "execution_count": 6,
   "metadata": {
    "collapsed": false,
    "jupyter": {
     "outputs_hidden": false
    }
   },
   "outputs": [],
   "source": [
    "def euler_function(n):\n",
    "    \"\"\"\n",
    "    Calculates Euler's totient function, which gives the count of integers up to n that are coprime to n.\n",
    "\n",
    "    Arguments:\n",
    "    n (int): The integer to compute the totient function for.\n",
    "\n",
    "    Returns:\n",
    "    _ (int): The count of integers between 1 and n that are coprime to n.\n",
    "    \"\"\"\n",
    "    \n",
    "    # Generate all unique prime factors of n\n",
    "    prime_factors = [p for (p, v) in factor(n)]\n",
    "    \n",
    "    # Initialize result with n\n",
    "    result = n\n",
    "    \n",
    "    # Apply the calculation formula for the Euler's totient function\n",
    "    for p in prime_factors:\n",
    "        result = result * (1 - 1/p)\n",
    "    \n",
    "    return int(result)"
   ]
  },
  {
   "cell_type": "code",
   "execution_count": 7,
   "metadata": {
    "collapsed": false,
    "jupyter": {
     "outputs_hidden": false
    }
   },
   "outputs": [
    {
     "name": "stdout",
     "output_type": "stream",
     "text": [
      "number:   3, number of coprimes:   2\n",
      "number:  10, number of coprimes:   4\n",
      "number:  18, number of coprimes:   6\n",
      "number:  64, number of coprimes:  32\n",
      "number: 997, number of coprimes: 996\n"
     ]
    }
   ],
   "source": [
    "# List of sample numbers to test the Euler's totient function\n",
    "\n",
    "numbers = [3, 10, 18, 64, 997]\n",
    "for n in numbers:\n",
    "    print(f\"number: {n:3}, number of coprimes: {euler_function(n):3}\")"
   ]
  },
  {
   "cell_type": "code",
   "execution_count": null,
   "metadata": {
    "collapsed": false,
    "jupyter": {
     "outputs_hidden": false
    }
   },
   "outputs": [],
   "source": []
  }
 ],
 "metadata": {
  "kernelspec": {
   "display_name": "Python [conda env:base] *",
   "language": "python",
   "name": "conda-base-py"
  },
  "language_info": {
   "codemirror_mode": {
    "name": "ipython",
    "version": 3
   },
   "file_extension": ".py",
   "mimetype": "text/x-python",
   "name": "python",
   "nbconvert_exporter": "python",
   "pygments_lexer": "ipython3",
   "version": "3.11.7"
  }
 },
 "nbformat": 4,
 "nbformat_minor": 4
}
